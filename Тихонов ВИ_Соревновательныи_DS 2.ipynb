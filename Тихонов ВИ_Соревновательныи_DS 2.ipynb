{
  "cells": [
    {
      "cell_type": "markdown",
      "metadata": {
        "id": "_Yx1Mi7abuht"
      },
      "source": [
        "# План домашних заданий"
      ]
    },
    {
      "cell_type": "markdown",
      "metadata": {
        "id": "_HK3X8tveQhH"
      },
      "source": [
        "\n",
        "- Описание задачи и знакомство с данными\n",
        "- Домашнее задание 1. Генерация и фильтрация признаков\n",
        "- Домашнее задание 2. Прогноз времени и вида поломки машин, настройка ML-модели\n",
        "- Дополнительное задание. Визуализация прогнозов, ошибок модели и важности признаков\n",
        "- Домашнее задание 3. Оптимизация. Тюнинг гиперпараметров с помощью `Optuna`\n",
        "- Домашнее задание 4. Блендинг\n",
        "- Домашнее задание 5. Парсинг внешних данных и оптимизация памяти\n",
        "- Отправка финального решения на лидерборд на Kaggle"
      ]
    },
    {
      "cell_type": "code",
      "execution_count": 22,
      "metadata": {
        "id": "cfomgq3Sbuht",
        "tags": []
      },
      "outputs": [],
      "source": [
        "import pandas as pd\n",
        "import numpy as np\n",
        "import matplotlib.pyplot as plt\n",
        "import seaborn as sns\n",
        "import phik\n",
        "from phik import resources, report\n",
        "import eli5\n",
        "from eli5.sklearn import PermutationImportance\n",
        "from sklearn.ensemble import RandomForestClassifier\n",
        "import shap"
      ]
    },
    {
      "cell_type": "markdown",
      "metadata": {
        "id": "fkeIBE5Kbuht"
      },
      "source": [
        "# <center id=\"part0\"> Описание задачи"
      ]
    },
    {
      "cell_type": "markdown",
      "metadata": {
        "id": "MKmknPZbbuht"
      },
      "source": [
        "**Предыстория:**  мы работаем с каршеринговой компанией, которая управляет крупным автопарком машин. Наша цель — предотвратить длительные периоды простоя машин из-за поломок через своевременное обслуживание и ремонт.\n",
        "\n",
        "\n",
        "**Идея для решения проблемы:** создать приоритизированный список обхода машин. Этот список поможет технической бригаде сосредоточиться на автомобилях, которые наиболее вероятно выйдут из строя в ближайшее время.\n",
        "\n",
        "\n",
        "**Как компания решает задачу:**\n",
        "\n",
        "* Собирает данные о поездках и состоянии машин до поломок.\n",
        "\n",
        "* Нанимает Data Scientist, чтобы он смог использовать эти данные для анализа и прогнозирования характера поломок.\n",
        "\n",
        "**Важный момент**: задачи этого специалиста (Data Scientist) предстоит выполнять вам."
      ]
    },
    {
      "cell_type": "markdown",
      "metadata": {
        "id": "-VMB1MVpbuhu"
      },
      "source": [
        "## <center> Знакомство с данными"
      ]
    },
    {
      "cell_type": "markdown",
      "metadata": {
        "id": "TtZE_Frrbuhu"
      },
      "source": [
        "### Информация про машины с таргетом (основной датасет)"
      ]
    },
    {
      "cell_type": "code",
      "execution_count": 23,
      "metadata": {
        "id": "DhA6zYqebuhu",
        "outputId": "6d64cd41-646a-4d14-b9cb-63330516265c",
        "tags": []
      },
      "outputs": [
        {
          "data": {
            "text/html": [
              "<div>\n",
              "<style scoped>\n",
              "    .dataframe tbody tr th:only-of-type {\n",
              "        vertical-align: middle;\n",
              "    }\n",
              "\n",
              "    .dataframe tbody tr th {\n",
              "        vertical-align: top;\n",
              "    }\n",
              "\n",
              "    .dataframe thead th {\n",
              "        text-align: right;\n",
              "    }\n",
              "</style>\n",
              "<table border=\"1\" class=\"dataframe\">\n",
              "  <thead>\n",
              "    <tr style=\"text-align: right;\">\n",
              "      <th></th>\n",
              "      <th>car_id</th>\n",
              "      <th>model</th>\n",
              "      <th>car_type</th>\n",
              "      <th>fuel_type</th>\n",
              "      <th>car_rating</th>\n",
              "      <th>year_to_start</th>\n",
              "      <th>riders</th>\n",
              "      <th>year_to_work</th>\n",
              "      <th>target_reg</th>\n",
              "      <th>target_class</th>\n",
              "    </tr>\n",
              "  </thead>\n",
              "  <tbody>\n",
              "    <tr>\n",
              "      <th>1411</th>\n",
              "      <td>S16201816J</td>\n",
              "      <td>Hyundai Solaris</td>\n",
              "      <td>economy</td>\n",
              "      <td>petrol</td>\n",
              "      <td>3.76</td>\n",
              "      <td>2011</td>\n",
              "      <td>1312</td>\n",
              "      <td>2015</td>\n",
              "      <td>78.49</td>\n",
              "      <td>another_bug</td>\n",
              "    </tr>\n",
              "    <tr>\n",
              "      <th>202</th>\n",
              "      <td>w-9263433r</td>\n",
              "      <td>Renault Sandero</td>\n",
              "      <td>standart</td>\n",
              "      <td>petrol</td>\n",
              "      <td>4.34</td>\n",
              "      <td>2012</td>\n",
              "      <td>26336</td>\n",
              "      <td>2020</td>\n",
              "      <td>58.14</td>\n",
              "      <td>another_bug</td>\n",
              "    </tr>\n",
              "    <tr>\n",
              "      <th>2118</th>\n",
              "      <td>x13220328w</td>\n",
              "      <td>Renault Sandero</td>\n",
              "      <td>standart</td>\n",
              "      <td>petrol</td>\n",
              "      <td>2.84</td>\n",
              "      <td>2013</td>\n",
              "      <td>42587</td>\n",
              "      <td>2018</td>\n",
              "      <td>32.56</td>\n",
              "      <td>gear_stick</td>\n",
              "    </tr>\n",
              "    <tr>\n",
              "      <th>1841</th>\n",
              "      <td>i19007345u</td>\n",
              "      <td>Mercedes-Benz E200</td>\n",
              "      <td>business</td>\n",
              "      <td>petrol</td>\n",
              "      <td>3.26</td>\n",
              "      <td>2013</td>\n",
              "      <td>43136</td>\n",
              "      <td>2016</td>\n",
              "      <td>42.17</td>\n",
              "      <td>engine_overheat</td>\n",
              "    </tr>\n",
              "    <tr>\n",
              "      <th>996</th>\n",
              "      <td>h90156916h</td>\n",
              "      <td>BMW 320i</td>\n",
              "      <td>business</td>\n",
              "      <td>petrol</td>\n",
              "      <td>3.86</td>\n",
              "      <td>2015</td>\n",
              "      <td>84170</td>\n",
              "      <td>2020</td>\n",
              "      <td>38.93</td>\n",
              "      <td>gear_stick</td>\n",
              "    </tr>\n",
              "  </tbody>\n",
              "</table>\n",
              "</div>"
            ],
            "text/plain": [
              "          car_id               model  car_type fuel_type  car_rating  \\\n",
              "1411  S16201816J     Hyundai Solaris   economy    petrol        3.76   \n",
              "202   w-9263433r     Renault Sandero  standart    petrol        4.34   \n",
              "2118  x13220328w     Renault Sandero  standart    petrol        2.84   \n",
              "1841  i19007345u  Mercedes-Benz E200  business    petrol        3.26   \n",
              "996   h90156916h            BMW 320i  business    petrol        3.86   \n",
              "\n",
              "      year_to_start  riders  year_to_work  target_reg     target_class  \n",
              "1411           2011    1312          2015       78.49      another_bug  \n",
              "202            2012   26336          2020       58.14      another_bug  \n",
              "2118           2013   42587          2018       32.56       gear_stick  \n",
              "1841           2013   43136          2016       42.17  engine_overheat  \n",
              "996            2015   84170          2020       38.93       gear_stick  "
            ]
          },
          "execution_count": 23,
          "metadata": {},
          "output_type": "execute_result"
        }
      ],
      "source": [
        "car_train = pd.read_csv('https://raw.githubusercontent.com/a-milenkin/Competitive_Data_Science/main/data/car_train.csv')\n",
        "car_train.sample(5)"
      ]
    },
    {
      "cell_type": "markdown",
      "metadata": {
        "id": "AWvQSnafbuhu"
      },
      "source": [
        "- `car_id` — идентификатор машины\n",
        "- `model` / `car_type` / `fuel_type` — марка, класс и тип топлива машины\n",
        "- `car_rating` / `riders` — общий рейтинг и общее число поездок к концу 2021 года\n",
        "- `year_to_start` / `year_to_work` — год выпуска машины и год начала работы в автопарке\n",
        "- `target_reg` — количество дней до поломки\n",
        "- `target_class` — класс поломки (всего 9 видов)"
      ]
    },
    {
      "cell_type": "markdown",
      "metadata": {
        "id": "6KWf2LgObuhu"
      },
      "source": [
        "### Информация про поездки"
      ]
    },
    {
      "cell_type": "code",
      "execution_count": 24,
      "metadata": {
        "id": "pDc5gXzbbuhu",
        "outputId": "53849f03-cf5e-4773-e68e-7d4ba6ed5e37",
        "tags": []
      },
      "outputs": [
        {
          "data": {
            "text/html": [
              "<div>\n",
              "<style scoped>\n",
              "    .dataframe tbody tr th:only-of-type {\n",
              "        vertical-align: middle;\n",
              "    }\n",
              "\n",
              "    .dataframe tbody tr th {\n",
              "        vertical-align: top;\n",
              "    }\n",
              "\n",
              "    .dataframe thead th {\n",
              "        text-align: right;\n",
              "    }\n",
              "</style>\n",
              "<table border=\"1\" class=\"dataframe\">\n",
              "  <thead>\n",
              "    <tr style=\"text-align: right;\">\n",
              "      <th></th>\n",
              "      <th>user_id</th>\n",
              "      <th>car_id</th>\n",
              "      <th>ride_id</th>\n",
              "      <th>ride_date</th>\n",
              "      <th>rating</th>\n",
              "      <th>ride_duration</th>\n",
              "      <th>ride_cost</th>\n",
              "      <th>speed_avg</th>\n",
              "      <th>speed_max</th>\n",
              "      <th>stop_times</th>\n",
              "      <th>distance</th>\n",
              "      <th>refueling</th>\n",
              "      <th>user_ride_quality</th>\n",
              "      <th>deviation_normal</th>\n",
              "    </tr>\n",
              "  </thead>\n",
              "  <tbody>\n",
              "    <tr>\n",
              "      <th>536068</th>\n",
              "      <td>j11528662N</td>\n",
              "      <td>l61851567T</td>\n",
              "      <td>k1Z</td>\n",
              "      <td>2020-03-19</td>\n",
              "      <td>6.22</td>\n",
              "      <td>40</td>\n",
              "      <td>475</td>\n",
              "      <td>42</td>\n",
              "      <td>155.0</td>\n",
              "      <td>1</td>\n",
              "      <td>693.197204</td>\n",
              "      <td>0</td>\n",
              "      <td>3.824714</td>\n",
              "      <td>-5.600</td>\n",
              "    </tr>\n",
              "    <tr>\n",
              "      <th>738944</th>\n",
              "      <td>X14255810v</td>\n",
              "      <td>z73740510r</td>\n",
              "      <td>I1N</td>\n",
              "      <td>2020-03-15</td>\n",
              "      <td>5.06</td>\n",
              "      <td>72</td>\n",
              "      <td>786</td>\n",
              "      <td>45</td>\n",
              "      <td>71.0</td>\n",
              "      <td>1</td>\n",
              "      <td>2867.312847</td>\n",
              "      <td>0</td>\n",
              "      <td>19.250412</td>\n",
              "      <td>-5.458</td>\n",
              "    </tr>\n",
              "    <tr>\n",
              "      <th>585114</th>\n",
              "      <td>p11345662X</td>\n",
              "      <td>p10312031l</td>\n",
              "      <td>P1I</td>\n",
              "      <td>2020-03-08</td>\n",
              "      <td>3.80</td>\n",
              "      <td>35</td>\n",
              "      <td>485</td>\n",
              "      <td>38</td>\n",
              "      <td>77.0</td>\n",
              "      <td>1</td>\n",
              "      <td>1230.392210</td>\n",
              "      <td>0</td>\n",
              "      <td>24.726463</td>\n",
              "      <td>-3.899</td>\n",
              "    </tr>\n",
              "    <tr>\n",
              "      <th>481180</th>\n",
              "      <td>z57638162h</td>\n",
              "      <td>i-1095441d</td>\n",
              "      <td>o1y</td>\n",
              "      <td>2020-02-07</td>\n",
              "      <td>5.68</td>\n",
              "      <td>46</td>\n",
              "      <td>730</td>\n",
              "      <td>52</td>\n",
              "      <td>87.0</td>\n",
              "      <td>1</td>\n",
              "      <td>2311.527635</td>\n",
              "      <td>0</td>\n",
              "      <td>7.633820</td>\n",
              "      <td>-0.000</td>\n",
              "    </tr>\n",
              "    <tr>\n",
              "      <th>561979</th>\n",
              "      <td>H13265758D</td>\n",
              "      <td>n19095522k</td>\n",
              "      <td>Z1d</td>\n",
              "      <td>2020-03-11</td>\n",
              "      <td>6.33</td>\n",
              "      <td>35</td>\n",
              "      <td>311</td>\n",
              "      <td>47</td>\n",
              "      <td>76.0</td>\n",
              "      <td>0</td>\n",
              "      <td>1072.289222</td>\n",
              "      <td>0</td>\n",
              "      <td>1.511421</td>\n",
              "      <td>20.042</td>\n",
              "    </tr>\n",
              "  </tbody>\n",
              "</table>\n",
              "</div>"
            ],
            "text/plain": [
              "           user_id      car_id ride_id   ride_date  rating  ride_duration  \\\n",
              "536068  j11528662N  l61851567T     k1Z  2020-03-19    6.22             40   \n",
              "738944  X14255810v  z73740510r     I1N  2020-03-15    5.06             72   \n",
              "585114  p11345662X  p10312031l     P1I  2020-03-08    3.80             35   \n",
              "481180  z57638162h  i-1095441d     o1y  2020-02-07    5.68             46   \n",
              "561979  H13265758D  n19095522k     Z1d  2020-03-11    6.33             35   \n",
              "\n",
              "        ride_cost  speed_avg  speed_max  stop_times     distance  refueling  \\\n",
              "536068        475         42      155.0           1   693.197204          0   \n",
              "738944        786         45       71.0           1  2867.312847          0   \n",
              "585114        485         38       77.0           1  1230.392210          0   \n",
              "481180        730         52       87.0           1  2311.527635          0   \n",
              "561979        311         47       76.0           0  1072.289222          0   \n",
              "\n",
              "        user_ride_quality  deviation_normal  \n",
              "536068           3.824714            -5.600  \n",
              "738944          19.250412            -5.458  \n",
              "585114          24.726463            -3.899  \n",
              "481180           7.633820            -0.000  \n",
              "561979           1.511421            20.042  "
            ]
          },
          "execution_count": 24,
          "metadata": {},
          "output_type": "execute_result"
        }
      ],
      "source": [
        "rides_info = pd.read_csv('https://raw.githubusercontent.com/a-milenkin/Competitive_Data_Science/main/data/rides_info.csv')\n",
        "rides_info.sample(5)"
      ]
    },
    {
      "cell_type": "markdown",
      "metadata": {
        "id": "ZAn8S24sbuhv"
      },
      "source": [
        "- `user_id` / `car_id` / `ride_id` — идентификаторы водителя, машины, поездки соответственно\n",
        "- `ride_date` / `rating` — дата поездки и рейтинг, поставленный водителем\n",
        "- `ride_duration` / `distance` / `ride_cost` —  длительность (время),  пройденное расстояние, стоимость поездки\n",
        "- `speed_avg` / `speed_max` — средняя и максимальная скорости поездки соответственно\n",
        "- `stop_times` / `refueling` — количество остановок (паузы) и флаг: была ли дозаправка\n",
        "- `user_ride_quality` — оценка манеры вождения водителя машины, определенная скоринговой ML-системой сервиса\n",
        "- `deviation_normal` — общий показатель датчиков о состоянии машины, относительно эталонных показателей (нормы)"
      ]
    },
    {
      "cell_type": "markdown",
      "metadata": {
        "id": "O0Onuz4ybuhv"
      },
      "source": [
        "### Информация про водителей"
      ]
    },
    {
      "cell_type": "code",
      "execution_count": 25,
      "metadata": {
        "id": "WBEvQXhxbuhv",
        "outputId": "80c61226-f3e4-445c-e122-d019200a5fbb",
        "tags": []
      },
      "outputs": [
        {
          "data": {
            "text/html": [
              "<div>\n",
              "<style scoped>\n",
              "    .dataframe tbody tr th:only-of-type {\n",
              "        vertical-align: middle;\n",
              "    }\n",
              "\n",
              "    .dataframe tbody tr th {\n",
              "        vertical-align: top;\n",
              "    }\n",
              "\n",
              "    .dataframe thead th {\n",
              "        text-align: right;\n",
              "    }\n",
              "</style>\n",
              "<table border=\"1\" class=\"dataframe\">\n",
              "  <thead>\n",
              "    <tr style=\"text-align: right;\">\n",
              "      <th></th>\n",
              "      <th>age</th>\n",
              "      <th>user_rating</th>\n",
              "      <th>user_rides</th>\n",
              "      <th>user_time_accident</th>\n",
              "      <th>user_id</th>\n",
              "      <th>sex</th>\n",
              "      <th>first_ride_date</th>\n",
              "    </tr>\n",
              "  </thead>\n",
              "  <tbody>\n",
              "    <tr>\n",
              "      <th>5806</th>\n",
              "      <td>43</td>\n",
              "      <td>8.3</td>\n",
              "      <td>928</td>\n",
              "      <td>3.0</td>\n",
              "      <td>E66316409F</td>\n",
              "      <td>0</td>\n",
              "      <td>2019-3-14</td>\n",
              "    </tr>\n",
              "    <tr>\n",
              "      <th>10260</th>\n",
              "      <td>43</td>\n",
              "      <td>8.4</td>\n",
              "      <td>741</td>\n",
              "      <td>NaN</td>\n",
              "      <td>p15183175o</td>\n",
              "      <td>0</td>\n",
              "      <td>2019-5-4</td>\n",
              "    </tr>\n",
              "    <tr>\n",
              "      <th>2265</th>\n",
              "      <td>27</td>\n",
              "      <td>8.0</td>\n",
              "      <td>617</td>\n",
              "      <td>5.0</td>\n",
              "      <td>H22867778d</td>\n",
              "      <td>1</td>\n",
              "      <td>2020-7-22</td>\n",
              "    </tr>\n",
              "    <tr>\n",
              "      <th>12617</th>\n",
              "      <td>18</td>\n",
              "      <td>8.8</td>\n",
              "      <td>73</td>\n",
              "      <td>18.0</td>\n",
              "      <td>J21883011j</td>\n",
              "      <td>1</td>\n",
              "      <td>2019-12-6</td>\n",
              "    </tr>\n",
              "    <tr>\n",
              "      <th>4727</th>\n",
              "      <td>25</td>\n",
              "      <td>7.7</td>\n",
              "      <td>553</td>\n",
              "      <td>10.0</td>\n",
              "      <td>Q49004092W</td>\n",
              "      <td>1</td>\n",
              "      <td>2020-7-7</td>\n",
              "    </tr>\n",
              "  </tbody>\n",
              "</table>\n",
              "</div>"
            ],
            "text/plain": [
              "       age  user_rating  user_rides  user_time_accident     user_id  sex  \\\n",
              "5806    43          8.3         928                 3.0  E66316409F    0   \n",
              "10260   43          8.4         741                 NaN  p15183175o    0   \n",
              "2265    27          8.0         617                 5.0  H22867778d    1   \n",
              "12617   18          8.8          73                18.0  J21883011j    1   \n",
              "4727    25          7.7         553                10.0  Q49004092W    1   \n",
              "\n",
              "      first_ride_date  \n",
              "5806        2019-3-14  \n",
              "10260        2019-5-4  \n",
              "2265        2020-7-22  \n",
              "12617       2019-12-6  \n",
              "4727         2020-7-7  "
            ]
          },
          "execution_count": 25,
          "metadata": {},
          "output_type": "execute_result"
        }
      ],
      "source": [
        "driver_info = pd.read_csv('https://raw.githubusercontent.com/a-milenkin/Competitive_Data_Science/main/data/driver_info.csv')\n",
        "driver_info.sample(5)"
      ]
    },
    {
      "cell_type": "markdown",
      "metadata": {
        "id": "ubFE8w-Kbuhv"
      },
      "source": [
        "- `user_id` / `age` / `sex` — идентификатор, возраст и пол водителя, соответственно\n",
        "- `user_rating` — общий рейтинг пользователя за все поездки к концу 2021 года\n",
        "- `user_rides` — общее количество поездок к концу 2021 года\n",
        "- `user_time_accident` — число инцидентов (это могли быть аварии/штрафы/эвакуация машины)  \n",
        "- `first_ride_date` — дата первой поездки"
      ]
    },
    {
      "cell_type": "markdown",
      "metadata": {
        "id": "cXDdvlHYbuhv"
      },
      "source": [
        "### Информация про ремонт машин"
      ]
    },
    {
      "cell_type": "code",
      "execution_count": 26,
      "metadata": {
        "id": "eVTjvBspbuhv",
        "outputId": "6ac51c57-542d-45d3-9465-5e4da7a4e4ae",
        "tags": []
      },
      "outputs": [
        {
          "data": {
            "text/html": [
              "<div>\n",
              "<style scoped>\n",
              "    .dataframe tbody tr th:only-of-type {\n",
              "        vertical-align: middle;\n",
              "    }\n",
              "\n",
              "    .dataframe tbody tr th {\n",
              "        vertical-align: top;\n",
              "    }\n",
              "\n",
              "    .dataframe thead th {\n",
              "        text-align: right;\n",
              "    }\n",
              "</style>\n",
              "<table border=\"1\" class=\"dataframe\">\n",
              "  <thead>\n",
              "    <tr style=\"text-align: right;\">\n",
              "      <th></th>\n",
              "      <th>car_id</th>\n",
              "      <th>worker_id</th>\n",
              "      <th>fix_date</th>\n",
              "      <th>work_type</th>\n",
              "      <th>destroy_degree</th>\n",
              "      <th>work_duration</th>\n",
              "    </tr>\n",
              "  </thead>\n",
              "  <tbody>\n",
              "    <tr>\n",
              "      <th>37415</th>\n",
              "      <td>A48818516t</td>\n",
              "      <td>XP</td>\n",
              "      <td>2019-1-30 17:37</td>\n",
              "      <td>refuel</td>\n",
              "      <td>1.0</td>\n",
              "      <td>31</td>\n",
              "    </tr>\n",
              "    <tr>\n",
              "      <th>4707</th>\n",
              "      <td>K12580160n</td>\n",
              "      <td>NW</td>\n",
              "      <td>2019-12-23 7:19</td>\n",
              "      <td>reparking</td>\n",
              "      <td>1.0</td>\n",
              "      <td>28</td>\n",
              "    </tr>\n",
              "    <tr>\n",
              "      <th>52086</th>\n",
              "      <td>H-3434345i</td>\n",
              "      <td>FK</td>\n",
              "      <td>2020-6-15 2:0</td>\n",
              "      <td>reparking</td>\n",
              "      <td>1.0</td>\n",
              "      <td>20</td>\n",
              "    </tr>\n",
              "    <tr>\n",
              "      <th>89645</th>\n",
              "      <td>w-9263433r</td>\n",
              "      <td>DL</td>\n",
              "      <td>2019-4-5 2:59</td>\n",
              "      <td>repair</td>\n",
              "      <td>10.0</td>\n",
              "      <td>69</td>\n",
              "    </tr>\n",
              "    <tr>\n",
              "      <th>126047</th>\n",
              "      <td>D-1029823M</td>\n",
              "      <td>VW</td>\n",
              "      <td>2019-8-26 4:54</td>\n",
              "      <td>repair</td>\n",
              "      <td>5.0</td>\n",
              "      <td>17</td>\n",
              "    </tr>\n",
              "  </tbody>\n",
              "</table>\n",
              "</div>"
            ],
            "text/plain": [
              "            car_id worker_id         fix_date  work_type  destroy_degree  \\\n",
              "37415   A48818516t        XP  2019-1-30 17:37     refuel             1.0   \n",
              "4707    K12580160n        NW  2019-12-23 7:19  reparking             1.0   \n",
              "52086   H-3434345i        FK    2020-6-15 2:0  reparking             1.0   \n",
              "89645   w-9263433r        DL    2019-4-5 2:59     repair            10.0   \n",
              "126047  D-1029823M        VW   2019-8-26 4:54     repair             5.0   \n",
              "\n",
              "        work_duration  \n",
              "37415              31  \n",
              "4707               28  \n",
              "52086              20  \n",
              "89645              69  \n",
              "126047             17  "
            ]
          },
          "execution_count": 26,
          "metadata": {},
          "output_type": "execute_result"
        }
      ],
      "source": [
        "fix_info = pd.read_csv('https://raw.githubusercontent.com/a-milenkin/Competitive_Data_Science/main/data/fix_info.csv')\n",
        "fix_info.sample(5)"
      ]
    },
    {
      "cell_type": "markdown",
      "metadata": {
        "id": "H01U-FFAbuhv"
      },
      "source": [
        "- `worker_id` / `car_id` — идентификатор работника и машины\n",
        "- `work_type` / `work_duration` — тип и длительность (в часах) проводимой работы\n",
        "- `destroy_degree` — степень износа/поврежденности машины в случае поломки\n",
        "- `fix_date` — время начала ремонта (снятия машины с линии)"
      ]
    },
    {
      "cell_type": "markdown",
      "metadata": {
        "id": "qY-lAjlhbuhv"
      },
      "source": [
        "# Домашнее задание 1. Генерация и фильтрация признаков"
      ]
    },
    {
      "cell_type": "markdown",
      "metadata": {
        "id": "9E2N9m5Cbuhv"
      },
      "source": [
        "<center> <img src=\"https://ucarecdn.com/bf4c772d-b67a-42ae-a48b-cfd83910b0a2/\" width=700>"
      ]
    },
    {
      "cell_type": "markdown",
      "metadata": {
        "id": "HaroHWSBbuhw"
      },
      "source": [
        "<div class=\"alert alert-info\">\n",
        "\n",
        "**Цель блока** — сгенерировать признаки из дополнительных датасетов и добавить их к основному датасету, произвести фильтрацию признаков."
      ]
    },
    {
      "cell_type": "markdown",
      "metadata": {
        "id": "wev7E_qlbuhw"
      },
      "source": [
        "    \n",
        "## Задание 1. Генерация признаков из дополнительных датасетов (6 баллов)"
      ]
    },
    {
      "cell_type": "markdown",
      "metadata": {
        "id": "CSX4pA5Kbuhw"
      },
      "source": [
        "<div class=\"alert alert-info\">\n",
        "\n",
        "1. Возьмите датасет `rides_info` с информацией о поездках и проведите группировку по каждой машине отдельно.\n",
        "\n",
        "2. Для каждой машины (то есть для каждого `car_id`) подсчитайте несколько признаков:\n",
        "  - минимальный рейтинг за все поездки;\n",
        "  - средний рейтинг за все поездки;\n",
        "  - общее количество километров, которое машина проехала;\n",
        "  - максимальная скорость;\n",
        "  - общее количество поездок для каждой машины.\n",
        "\n",
        "3. Добавьте минимум 3 признака на свой выбор.\n",
        "\n",
        "4. Сделайте соединение таблиц — вспомните про методы соединения и выберите подходящий для этого случая.\n",
        "\n",
        "5. Подключите информацию про водителей (`driver_info`) и про ремонт машин (`fix_info`). Добавьте минимум 3 любых признака с каждого датасета.\n",
        "\n",
        "\n",
        "<h4> Критерии оценивания </h4>\n",
        "    \n",
        "- Добавлены 5 обязательных и минимум 3 любых признака из датасета `rides_info` — 2 балла.\n",
        "- Добавлены минимум 3 любых признака из датасета `driver_info` — 2 балла.\n",
        "- Добавлены минимум 3 любых признака из датасета `fix_info` — 2 балла.\n",
        "\n",
        "</div>"
      ]
    },
    {
      "cell_type": "markdown",
      "metadata": {
        "id": "kfAs9dZHbuhw"
      },
      "source": [
        "<div class=\"alert alert-success\">\n",
        "    \n",
        "<h4> Советы по Feature Engineering</h4>\n",
        "    \n",
        "- Начинайте с сырых данных.\n",
        "- Используйте все доступные данные. Покрывайте признаками всю имеющуюся информацию в данных.\n",
        "- Формулируйте предположения: от чего зависит таргет?\n",
        "- Смотрите визуально на классы/ошибки и делайте предположения. Какие полезны?\n",
        "- Помните, что слишком много признаков может быть вредно. Потом придется отфильтровывать.\n",
        "    \n",
        "<h4> Полезные источники </h4>\n",
        "    \n",
        "- Занятие про Feature Engineering.\n",
        "- Занятие про Feature Selection.\n",
        "- [Max Kuhn and Kjell Johnson. Feature Engineering and Selection: A Practical Approach for Predictive Models](http://www.feat.engineering/)."
      ]
    },
    {
      "cell_type": "code",
      "execution_count": 27,
      "metadata": {},
      "outputs": [
        {
          "data": {
            "text/html": [
              "<div>\n",
              "<style scoped>\n",
              "    .dataframe tbody tr th:only-of-type {\n",
              "        vertical-align: middle;\n",
              "    }\n",
              "\n",
              "    .dataframe tbody tr th {\n",
              "        vertical-align: top;\n",
              "    }\n",
              "\n",
              "    .dataframe thead th {\n",
              "        text-align: right;\n",
              "    }\n",
              "</style>\n",
              "<table border=\"1\" class=\"dataframe\">\n",
              "  <thead>\n",
              "    <tr style=\"text-align: right;\">\n",
              "      <th></th>\n",
              "      <th>car_id</th>\n",
              "      <th>min_rating</th>\n",
              "      <th>avg_rating</th>\n",
              "      <th>total_distance</th>\n",
              "      <th>max_speed</th>\n",
              "      <th>total_rides</th>\n",
              "      <th>avg_deviation_normal</th>\n",
              "      <th>avg_ride_duration</th>\n",
              "      <th>total_stops</th>\n",
              "    </tr>\n",
              "  </thead>\n",
              "  <tbody>\n",
              "    <tr>\n",
              "      <th>3399</th>\n",
              "      <td>p87595615V</td>\n",
              "      <td>0.1</td>\n",
              "      <td>4.761149</td>\n",
              "      <td>1.294004e+07</td>\n",
              "      <td>165.263709</td>\n",
              "      <td>174</td>\n",
              "      <td>9.739052</td>\n",
              "      <td>1792.534483</td>\n",
              "      <td>156</td>\n",
              "    </tr>\n",
              "    <tr>\n",
              "      <th>509</th>\n",
              "      <td>G-7187279a</td>\n",
              "      <td>0.1</td>\n",
              "      <td>4.076322</td>\n",
              "      <td>1.555254e+07</td>\n",
              "      <td>199.749102</td>\n",
              "      <td>174</td>\n",
              "      <td>19.235109</td>\n",
              "      <td>1669.183908</td>\n",
              "      <td>141</td>\n",
              "    </tr>\n",
              "    <tr>\n",
              "      <th>2625</th>\n",
              "      <td>g-2087791I</td>\n",
              "      <td>0.1</td>\n",
              "      <td>3.855862</td>\n",
              "      <td>9.227756e+06</td>\n",
              "      <td>176.058775</td>\n",
              "      <td>174</td>\n",
              "      <td>14.185621</td>\n",
              "      <td>1113.063218</td>\n",
              "      <td>129</td>\n",
              "    </tr>\n",
              "    <tr>\n",
              "      <th>3904</th>\n",
              "      <td>v50135109z</td>\n",
              "      <td>0.1</td>\n",
              "      <td>4.478103</td>\n",
              "      <td>1.356316e+07</td>\n",
              "      <td>113.057472</td>\n",
              "      <td>174</td>\n",
              "      <td>-27.172638</td>\n",
              "      <td>1848.666667</td>\n",
              "      <td>145</td>\n",
              "    </tr>\n",
              "    <tr>\n",
              "      <th>3173</th>\n",
              "      <td>m76785981z</td>\n",
              "      <td>0.1</td>\n",
              "      <td>4.383448</td>\n",
              "      <td>1.109828e+07</td>\n",
              "      <td>185.647348</td>\n",
              "      <td>174</td>\n",
              "      <td>21.443247</td>\n",
              "      <td>1380.097701</td>\n",
              "      <td>143</td>\n",
              "    </tr>\n",
              "  </tbody>\n",
              "</table>\n",
              "</div>"
            ],
            "text/plain": [
              "          car_id  min_rating  avg_rating  total_distance   max_speed  \\\n",
              "3399  p87595615V         0.1    4.761149    1.294004e+07  165.263709   \n",
              "509   G-7187279a         0.1    4.076322    1.555254e+07  199.749102   \n",
              "2625  g-2087791I         0.1    3.855862    9.227756e+06  176.058775   \n",
              "3904  v50135109z         0.1    4.478103    1.356316e+07  113.057472   \n",
              "3173  m76785981z         0.1    4.383448    1.109828e+07  185.647348   \n",
              "\n",
              "      total_rides  avg_deviation_normal  avg_ride_duration  total_stops  \n",
              "3399          174              9.739052        1792.534483          156  \n",
              "509           174             19.235109        1669.183908          141  \n",
              "2625          174             14.185621        1113.063218          129  \n",
              "3904          174            -27.172638        1848.666667          145  \n",
              "3173          174             21.443247        1380.097701          143  "
            ]
          },
          "execution_count": 27,
          "metadata": {},
          "output_type": "execute_result"
        }
      ],
      "source": [
        "car_features = rides_info.groupby('car_id', as_index=False).agg(\n",
        "    min_rating=('rating', 'min'), #минимальный рейтинг за все поездки\n",
        "    avg_rating=('rating', 'mean'), #средний рейтинг за все поездки\n",
        "    total_distance=('distance', 'sum'), #общее количество километров, которое машина проехала\n",
        "    max_speed=('speed_max', 'max'), #максимальная скорость\n",
        "    total_rides=('ride_id', 'count'), #общее количество поездок для каждой машины\n",
        "    avg_deviation_normal=('deviation_normal', 'mean'), #cреднее отклонение от нормы по показателям состояния машины (чем выше среднее отклонение от нормы, тем вероятнее, что автомобиль сломается)\n",
        "    avg_ride_duration=('ride_duration', 'mean'), #средняя длительность поездок (автомобили, которые часто используются для коротких поездок испытывают большее напряжение на двигатель и другие системы)\n",
        "    total_stops=('stop_times', 'sum') #общее количество остановок (чем больше остановок, тем больше вероятность, что машина испытывает какие-то проблемы, требующие вмешательства или быстрее \"изнашивается\")\n",
        ")\n",
        "\n",
        "car_features.sample(5)"
      ]
    },
    {
      "cell_type": "code",
      "execution_count": 28,
      "metadata": {},
      "outputs": [
        {
          "data": {
            "text/html": [
              "<div>\n",
              "<style scoped>\n",
              "    .dataframe tbody tr th:only-of-type {\n",
              "        vertical-align: middle;\n",
              "    }\n",
              "\n",
              "    .dataframe tbody tr th {\n",
              "        vertical-align: top;\n",
              "    }\n",
              "\n",
              "    .dataframe thead th {\n",
              "        text-align: right;\n",
              "    }\n",
              "</style>\n",
              "<table border=\"1\" class=\"dataframe\">\n",
              "  <thead>\n",
              "    <tr style=\"text-align: right;\">\n",
              "      <th></th>\n",
              "      <th>car_id</th>\n",
              "      <th>model</th>\n",
              "      <th>car_type</th>\n",
              "      <th>fuel_type</th>\n",
              "      <th>car_rating</th>\n",
              "      <th>year_to_start</th>\n",
              "      <th>riders</th>\n",
              "      <th>year_to_work</th>\n",
              "      <th>target_reg</th>\n",
              "      <th>target_class</th>\n",
              "      <th>...</th>\n",
              "      <th>avg_deviation_normal</th>\n",
              "      <th>avg_ride_duration</th>\n",
              "      <th>total_stops</th>\n",
              "      <th>user_id</th>\n",
              "      <th>user_rating</th>\n",
              "      <th>user_rides</th>\n",
              "      <th>user_time_accident</th>\n",
              "      <th>work_type</th>\n",
              "      <th>work_duration</th>\n",
              "      <th>destroy_degree</th>\n",
              "    </tr>\n",
              "  </thead>\n",
              "  <tbody>\n",
              "    <tr>\n",
              "      <th>3908469</th>\n",
              "      <td>y-1806571O</td>\n",
              "      <td>Smart ForTwo</td>\n",
              "      <td>economy</td>\n",
              "      <td>petrol</td>\n",
              "      <td>5.24</td>\n",
              "      <td>2015</td>\n",
              "      <td>86243</td>\n",
              "      <td>2016</td>\n",
              "      <td>37.61</td>\n",
              "      <td>engine_fuel</td>\n",
              "      <td>...</td>\n",
              "      <td>35.441368</td>\n",
              "      <td>2281.706897</td>\n",
              "      <td>138</td>\n",
              "      <td>n18468040a</td>\n",
              "      <td>7.9</td>\n",
              "      <td>863</td>\n",
              "      <td>10.0</td>\n",
              "      <td>repair</td>\n",
              "      <td>65</td>\n",
              "      <td>10.0</td>\n",
              "    </tr>\n",
              "    <tr>\n",
              "      <th>9801556</th>\n",
              "      <td>K-2477266U</td>\n",
              "      <td>VW Polo VI</td>\n",
              "      <td>economy</td>\n",
              "      <td>petrol</td>\n",
              "      <td>5.04</td>\n",
              "      <td>2013</td>\n",
              "      <td>49733</td>\n",
              "      <td>2014</td>\n",
              "      <td>27.21</td>\n",
              "      <td>gear_stick</td>\n",
              "      <td>...</td>\n",
              "      <td>-12.875897</td>\n",
              "      <td>1367.413793</td>\n",
              "      <td>155</td>\n",
              "      <td>j22056698B</td>\n",
              "      <td>9.1</td>\n",
              "      <td>153</td>\n",
              "      <td>14.0</td>\n",
              "      <td>repair</td>\n",
              "      <td>2</td>\n",
              "      <td>3.5</td>\n",
              "    </tr>\n",
              "    <tr>\n",
              "      <th>2179523</th>\n",
              "      <td>n11802717C</td>\n",
              "      <td>Skoda Rapid</td>\n",
              "      <td>economy</td>\n",
              "      <td>petrol</td>\n",
              "      <td>4.30</td>\n",
              "      <td>2017</td>\n",
              "      <td>132832</td>\n",
              "      <td>2019</td>\n",
              "      <td>30.67</td>\n",
              "      <td>engine_fuel</td>\n",
              "      <td>...</td>\n",
              "      <td>17.375701</td>\n",
              "      <td>1873.408046</td>\n",
              "      <td>146</td>\n",
              "      <td>q14997645m</td>\n",
              "      <td>8.0</td>\n",
              "      <td>1621</td>\n",
              "      <td>7.0</td>\n",
              "      <td>repair</td>\n",
              "      <td>18</td>\n",
              "      <td>5.1</td>\n",
              "    </tr>\n",
              "    <tr>\n",
              "      <th>7645471</th>\n",
              "      <td>z91353693Z</td>\n",
              "      <td>Nissan Qashqai</td>\n",
              "      <td>standart</td>\n",
              "      <td>petrol</td>\n",
              "      <td>3.20</td>\n",
              "      <td>2013</td>\n",
              "      <td>50271</td>\n",
              "      <td>2016</td>\n",
              "      <td>23.64</td>\n",
              "      <td>break_bug</td>\n",
              "      <td>...</td>\n",
              "      <td>-8.031167</td>\n",
              "      <td>2170.580460</td>\n",
              "      <td>139</td>\n",
              "      <td>s21764921v</td>\n",
              "      <td>7.1</td>\n",
              "      <td>561</td>\n",
              "      <td>7.0</td>\n",
              "      <td>repair</td>\n",
              "      <td>20</td>\n",
              "      <td>5.4</td>\n",
              "    </tr>\n",
              "    <tr>\n",
              "      <th>10664444</th>\n",
              "      <td>K42844728e</td>\n",
              "      <td>Smart Coupe</td>\n",
              "      <td>economy</td>\n",
              "      <td>petrol</td>\n",
              "      <td>4.42</td>\n",
              "      <td>2014</td>\n",
              "      <td>58708</td>\n",
              "      <td>2019</td>\n",
              "      <td>61.07</td>\n",
              "      <td>engine_ignition</td>\n",
              "      <td>...</td>\n",
              "      <td>-15.783046</td>\n",
              "      <td>1521.936782</td>\n",
              "      <td>156</td>\n",
              "      <td>v11812675g</td>\n",
              "      <td>6.3</td>\n",
              "      <td>1557</td>\n",
              "      <td>9.0</td>\n",
              "      <td>reparking</td>\n",
              "      <td>40</td>\n",
              "      <td>5.0</td>\n",
              "    </tr>\n",
              "  </tbody>\n",
              "</table>\n",
              "<p>5 rows × 25 columns</p>\n",
              "</div>"
            ],
            "text/plain": [
              "              car_id           model  car_type fuel_type  car_rating  \\\n",
              "3908469   y-1806571O    Smart ForTwo   economy    petrol        5.24   \n",
              "9801556   K-2477266U      VW Polo VI   economy    petrol        5.04   \n",
              "2179523   n11802717C     Skoda Rapid   economy    petrol        4.30   \n",
              "7645471   z91353693Z  Nissan Qashqai  standart    petrol        3.20   \n",
              "10664444  K42844728e     Smart Coupe   economy    petrol        4.42   \n",
              "\n",
              "          year_to_start  riders  year_to_work  target_reg     target_class  \\\n",
              "3908469            2015   86243          2016       37.61      engine_fuel   \n",
              "9801556            2013   49733          2014       27.21       gear_stick   \n",
              "2179523            2017  132832          2019       30.67      engine_fuel   \n",
              "7645471            2013   50271          2016       23.64        break_bug   \n",
              "10664444           2014   58708          2019       61.07  engine_ignition   \n",
              "\n",
              "          ...  avg_deviation_normal  avg_ride_duration  total_stops  \\\n",
              "3908469   ...             35.441368        2281.706897          138   \n",
              "9801556   ...            -12.875897        1367.413793          155   \n",
              "2179523   ...             17.375701        1873.408046          146   \n",
              "7645471   ...             -8.031167        2170.580460          139   \n",
              "10664444  ...            -15.783046        1521.936782          156   \n",
              "\n",
              "             user_id  user_rating  user_rides  user_time_accident  work_type  \\\n",
              "3908469   n18468040a          7.9         863                10.0     repair   \n",
              "9801556   j22056698B          9.1         153                14.0     repair   \n",
              "2179523   q14997645m          8.0        1621                 7.0     repair   \n",
              "7645471   s21764921v          7.1         561                 7.0     repair   \n",
              "10664444  v11812675g          6.3        1557                 9.0  reparking   \n",
              "\n",
              "         work_duration  destroy_degree  \n",
              "3908469             65            10.0  \n",
              "9801556              2             3.5  \n",
              "2179523             18             5.1  \n",
              "7645471             20             5.4  \n",
              "10664444            40             5.0  \n",
              "\n",
              "[5 rows x 25 columns]"
            ]
          },
          "execution_count": 28,
          "metadata": {},
          "output_type": "execute_result"
        }
      ],
      "source": [
        "merged_df = pd.merge(car_train, car_features, on='car_id', how='left')\n",
        "#используем левое объединение, чтобы сохранить все строки из car_train\n",
        "#если какая-то машина из car_train отсутствует в car_features, ее соответствующие признаки будут заполнены значением NaN\n",
        "\n",
        "merged_df = pd.merge(merged_df, rides_info[['car_id', 'user_id']], on='car_id', how='left')\n",
        "merged_df = pd.merge(merged_df, driver_info[['user_id', 'user_rating', 'user_rides', 'user_time_accident']], on='user_id', how='left')\n",
        "merged_df = pd.merge(merged_df, fix_info[['car_id', 'work_type', 'work_duration', 'destroy_degree']], on='car_id', how='left')\n",
        "\n",
        "merged_df.sample(5)"
      ]
    },
    {
      "cell_type": "markdown",
      "metadata": {
        "id": "Q6Fa0zupbuhw"
      },
      "source": [
        "## Задание 2. Применение методов фильтрации признаков (4 балла)\n",
        "\n",
        "<center> <img src=\"https://ucarecdn.com/d1b4bc78-fd04-44fb-bdbf-0a63355b7384/\" width=700>"
      ]
    },
    {
      "cell_type": "markdown",
      "metadata": {
        "id": "c910L9jubuhx"
      },
      "source": [
        "1. Выберите и примените любые 3 (можно и больше) метода фильтрации, которые указаны выше или в ноутбуке по фильтрации из полезных ссылок.\n",
        "2. Проинтерпретируйте результаты и сделайте выводы.\n",
        "\n",
        "\n",
        "<h4> Критерии оценивания </h4>\n",
        "    \n",
        "- Применены методы фильтрации — 1 балл за каждый метод, максимум 3 балла.\n",
        "- Сделаны выводы на основе примененных методов —1 балл.\n",
        "</div>"
      ]
    },
    {
      "cell_type": "markdown",
      "metadata": {
        "id": "9flWgKVxf9Q1"
      },
      "source": [
        "### Советы по Feature Selection"
      ]
    },
    {
      "cell_type": "markdown",
      "metadata": {
        "id": "vYr9VNS5buhw"
      },
      "source": [
        "<div class=\"alert alert-info\">\n",
        "\n",
        "<h3><center>Зачем отбирать признаки</center></h3>\n",
        "    \n",
        "**Основные причины**:\n",
        "    \n",
        "- Главная причина: с увеличением количества признаков часто падает точность предсказания модели, а некоторые модели и вовсе перестают адекватно работать. Так происходит, если в данных большое количество мусорных фичей (почти не коррелирующих с таргетом).\n",
        "\n",
        "- Если фичей очень много, то данные перестают помещаться в память и существенно увеличивают время обучения модели, особенно если мы тестируем несколько алгоритмов или ансамбль. Также важно учитывать, что платформы имеют ограничения на длительность одной сессии (в Kaggle — 12 часов) и лимиты по потребляемой памяти.\n",
        "\n",
        "- Даже если точность не снижается, есть риск, что модель опирается на шумные фичи, что снизит стабильность прогноза на приватной выборке.\n"
      ]
    },
    {
      "cell_type": "markdown",
      "metadata": {
        "id": "P4JQwUS3buhw"
      },
      "source": [
        "<b>Что удалить сразу:</b>\n",
        "    \n",
        "- константы;\n",
        "- уникальные значения (в том числе в тесте; как правило, это ID-шники по типу `car_id`).\n",
        "    \n",
        "<b>Какие методы использовать:</b>\n",
        "    \n",
        "- `Линейная корреляция`.\n",
        "- `Phik` — тоже корреляция, но на стероидах ([туториал на Medium](https://towardsdatascience.com/phik-k-get-familiar-with-the-latest-correlation-coefficient-9ba0032b37e7)).\n",
        "- `Permutation importance` (из `scikit-learn`).\n",
        "- `SHAP values` (из библиотеки `shap`).\n",
        "- `CatBoost Feature Selection` (рекурсивные методы).\n",
        "    "
      ]
    },
    {
      "cell_type": "code",
      "execution_count": 29,
      "metadata": {},
      "outputs": [
        {
          "data": {
            "text/plain": [
              "['total_rides']"
            ]
          },
          "execution_count": 29,
          "metadata": {},
          "output_type": "execute_result"
        }
      ],
      "source": [
        "constant_columns = [column for column in merged_df.columns if len(merged_df[column].unique()) == 1]\n",
        "constant_columns"
      ]
    },
    {
      "cell_type": "code",
      "execution_count": 30,
      "metadata": {},
      "outputs": [],
      "source": [
        "merged_df.drop(columns=['car_id', 'user_id', 'total_rides'], inplace=True)\n",
        "cat_columns = merged_df.select_dtypes(['object']).columns\n",
        "#merged_df[cat_columns] = merged_df[cat_columns].apply(lambda x: pd.factorize(x)[0])\n",
        "merged_df = merged_df.dropna(axis = 1)"
      ]
    },
    {
      "cell_type": "code",
      "execution_count": 31,
      "metadata": {},
      "outputs": [
        {
          "name": "stdout",
          "output_type": "stream",
          "text": [
            "<class 'pandas.core.frame.DataFrame'>\n",
            "Int64Index: 13970460 entries, 0 to 13970459\n",
            "Data columns (total 21 columns):\n",
            " #   Column                Dtype  \n",
            "---  ------                -----  \n",
            " 0   model                 object \n",
            " 1   car_type              object \n",
            " 2   fuel_type             object \n",
            " 3   car_rating            float64\n",
            " 4   year_to_start         int64  \n",
            " 5   riders                int64  \n",
            " 6   year_to_work          int64  \n",
            " 7   target_reg            float64\n",
            " 8   target_class          object \n",
            " 9   min_rating            float64\n",
            " 10  avg_rating            float64\n",
            " 11  total_distance        float64\n",
            " 12  max_speed             float64\n",
            " 13  avg_deviation_normal  float64\n",
            " 14  avg_ride_duration     float64\n",
            " 15  total_stops           int64  \n",
            " 16  user_rating           float64\n",
            " 17  user_rides            int64  \n",
            " 18  work_type             object \n",
            " 19  work_duration         int64  \n",
            " 20  destroy_degree        float64\n",
            "dtypes: float64(10), int64(6), object(5)\n",
            "memory usage: 2.3+ GB\n"
          ]
        }
      ],
      "source": [
        "merged_df.info()"
      ]
    },
    {
      "cell_type": "code",
      "execution_count": 43,
      "metadata": {},
      "outputs": [
        {
          "data": {
            "text/plain": [
              "Index(['model', 'car_type', 'fuel_type', 'target_class', 'work_type'], dtype='object')"
            ]
          },
          "execution_count": 43,
          "metadata": {},
          "output_type": "execute_result"
        }
      ],
      "source": [
        "cat_columns"
      ]
    },
    {
      "cell_type": "markdown",
      "metadata": {
        "id": "iSjuXdlcbuhx"
      },
      "source": [
        "# Домашнее задание 2. Прогноз времени и вида поломки машин. Настройка ML-модели"
      ]
    },
    {
      "cell_type": "markdown",
      "metadata": {
        "id": "2qoVlxvUbuhx"
      },
      "source": [
        "<div class=\"alert alert-info\">\n",
        "\n",
        "**Цель блока** — составить тренировочную и валидационную выборки, произвести обучение модели `CatBoostClassifier` на тренировочной части и оценить качество на валидационной."
      ]
    },
    {
      "cell_type": "markdown",
      "metadata": {
        "id": "OfqcanLLbuhx"
      },
      "source": [
        "##Обучение первой модели (5 баллов)\n",
        "\n",
        "1.   Новый пункт\n",
        "2.   Новый пункт\n",
        "\n"
      ]
    },
    {
      "cell_type": "markdown",
      "metadata": {
        "id": "ZXhXYJt6buhx"
      },
      "source": [
        "1. Классифицируйте признаки на типы (категориальные, числовые, таргеты).\n",
        "\n",
        "2. Выделите в `X` только признаки, а в `Y` — таргет (для задачи классификации).\n",
        "\n",
        "3. Сделайте разделение данных на *обучающую* и *валидационную* выборки (не забывайте про воспроизводимость результатов).\n",
        "\n",
        "4. Создайте и обучите `CatBoostClassifier` модель (настраивать гиперпараметры сейчас не обязательно).\n",
        "\n",
        "5. Проведите оценку вашей модели, используя метрику `accuracy`.\n",
        "\n",
        "\n",
        "<h4> Критерии оценивания </h4>\n",
        "    \n",
        "- По 1 баллу за каждый корректно выполненный пункт.\n",
        "\n",
        "</div>"
      ]
    },
    {
      "cell_type": "code",
      "execution_count": 32,
      "metadata": {
        "id": "klrOFoVpbuhx"
      },
      "outputs": [],
      "source": [
        "from catboost import CatBoostClassifier\n",
        "from sklearn.model_selection import train_test_split\n",
        "from sklearn.metrics import accuracy_score"
      ]
    },
    {
      "cell_type": "code",
      "execution_count": 44,
      "metadata": {
        "id": "lqwlTU2gbuhz"
      },
      "outputs": [
        {
          "name": "stdout",
          "output_type": "stream",
          "text": [
            "Категориальные признаки: 5 Index(['model', 'car_type', 'fuel_type', 'target_class', 'work_type'], dtype='object')\n",
            "Числовые признаки: 16 Index(['car_rating', 'year_to_start', 'riders', 'year_to_work', 'target_reg',\n",
            "       'min_rating', 'avg_rating', 'total_distance', 'max_speed',\n",
            "       'avg_deviation_normal', 'avg_ride_duration', 'total_stops',\n",
            "       'user_rating', 'user_rides', 'work_duration', 'destroy_degree'],\n",
            "      dtype='object')\n",
            "Целевые переменные 0            another_bug\n",
            "1            another_bug\n",
            "2            another_bug\n",
            "3            another_bug\n",
            "4            another_bug\n",
            "                ...     \n",
            "13970455    engine_check\n",
            "13970456    engine_check\n",
            "13970457    engine_check\n",
            "13970458    engine_check\n",
            "13970459    engine_check\n",
            "Name: target_class, Length: 13970460, dtype: object\n"
          ]
        }
      ],
      "source": [
        "features2drop = merged_df.drop('target_class', axis=1) # то, что надо выбросить\n",
        "targets = merged_df['target_class'] # таргеты\n",
        "cat_features = cat_columns # категориальные признаки\n",
        "num_features = merged_df.select_dtypes(['int64', 'float64']).columns # числовые признаки\n",
        "\n",
        "print('Категориальные признаки:', len(cat_features), cat_features)\n",
        "print('Числовые признаки:', len(num_features), num_features)\n",
        "print('Целевые переменные', targets)"
      ]
    },
    {
      "cell_type": "code",
      "execution_count": 55,
      "metadata": {
        "id": "tGK5sgaQbuhz"
      },
      "outputs": [],
      "source": [
        "X = merged_df[num_features]\n",
        "y = merged_df['target_class']"
      ]
    },
    {
      "cell_type": "code",
      "execution_count": 56,
      "metadata": {},
      "outputs": [],
      "source": [
        "X_train, X_test_valid, y_train, y_test_valid = train_test_split(X, y, test_size=0.2)\n",
        "X_test, X_valid, y_test, y_valid = train_test_split(X_test_valid, y_test_valid, test_size=0.5)"
      ]
    },
    {
      "cell_type": "code",
      "execution_count": 57,
      "metadata": {},
      "outputs": [],
      "source": [
        "from sklearn.model_selection import train_test_split, KFold, GridSearchCV"
      ]
    },
    {
      "cell_type": "code",
      "execution_count": 50,
      "metadata": {},
      "outputs": [],
      "source": [
        "#merged_df[cat_columns] = merged_df[cat_columns].apply(lambda x: pd.factorize(x)[0])"
      ]
    },
    {
      "cell_type": "code",
      "execution_count": 58,
      "metadata": {},
      "outputs": [
        {
          "name": "stdout",
          "output_type": "stream",
          "text": [
            "<class 'pandas.core.frame.DataFrame'>\n",
            "Int64Index: 13970460 entries, 0 to 13970459\n",
            "Data columns (total 21 columns):\n",
            " #   Column                Dtype  \n",
            "---  ------                -----  \n",
            " 0   model                 int64  \n",
            " 1   car_type              int64  \n",
            " 2   fuel_type             int64  \n",
            " 3   car_rating            float64\n",
            " 4   year_to_start         int64  \n",
            " 5   riders                int64  \n",
            " 6   year_to_work          int64  \n",
            " 7   target_reg            float64\n",
            " 8   target_class          int64  \n",
            " 9   min_rating            float64\n",
            " 10  avg_rating            float64\n",
            " 11  total_distance        float64\n",
            " 12  max_speed             float64\n",
            " 13  avg_deviation_normal  float64\n",
            " 14  avg_ride_duration     float64\n",
            " 15  total_stops           int64  \n",
            " 16  user_rating           float64\n",
            " 17  user_rides            int64  \n",
            " 18  work_type             int64  \n",
            " 19  work_duration         int64  \n",
            " 20  destroy_degree        float64\n",
            "dtypes: float64(10), int64(11)\n",
            "memory usage: 2.3 GB\n"
          ]
        }
      ],
      "source": [
        "merged_df.info()"
      ]
    },
    {
      "cell_type": "code",
      "execution_count": 67,
      "metadata": {},
      "outputs": [
        {
          "name": "stdout",
          "output_type": "stream",
          "text": [
            "0:\tlearn: 0.8823775\ttest: 0.8824634\tbest: 0.8824634 (0)\ttotal: 12.3s\tremaining: 1m 50s\n",
            "1:\tlearn: 0.8823775\ttest: 0.8824634\tbest: 0.8824634 (0)\ttotal: 35.9s\tremaining: 2m 23s\n",
            "2:\tlearn: 0.8990368\ttest: 0.8992753\tbest: 0.8992753 (2)\ttotal: 1m 1s\tremaining: 2m 24s\n",
            "3:\tlearn: 0.8930288\ttest: 0.8932412\tbest: 0.8992753 (2)\ttotal: 1m 29s\tremaining: 2m 14s\n",
            "4:\tlearn: 0.8968846\ttest: 0.8971294\tbest: 0.8992753 (2)\ttotal: 2m 8s\tremaining: 2m 8s\n",
            "5:\tlearn: 0.9067747\ttest: 0.9068220\tbest: 0.9068220 (5)\ttotal: 2m 43s\tremaining: 1m 49s\n",
            "6:\tlearn: 0.8973082\ttest: 0.8975596\tbest: 0.9068220 (5)\ttotal: 3m 24s\tremaining: 1m 27s\n",
            "7:\tlearn: 0.9075912\ttest: 0.9077081\tbest: 0.9077081 (7)\ttotal: 4m 2s\tremaining: 1m\n",
            "8:\tlearn: 0.9075893\ttest: 0.9076773\tbest: 0.9077081 (7)\ttotal: 4m 36s\tremaining: 30.8s\n",
            "9:\tlearn: 0.9118665\ttest: 0.9119864\tbest: 0.9119864 (9)\ttotal: 5m 15s\tremaining: 0us\n",
            "\n",
            "bestTest = 0.9119864342\n",
            "bestIteration = 9\n",
            "\n"
          ]
        },
        {
          "data": {
            "text/plain": [
              "<catboost.core.CatBoostClassifier at 0x148ac0590>"
            ]
          },
          "execution_count": 67,
          "metadata": {},
          "output_type": "execute_result"
        }
      ],
      "source": [
        "cb_mc = CatBoostClassifier(random_seed=43,\n",
        "                           iterations=10,\n",
        "                           eval_metric='Accuracy',\n",
        "                           learning_rate=0.1,\n",
        "                           )\n",
        "\n",
        "cb_mc.fit(X_train, y_train, eval_set=(X_valid, y_valid))\n"
      ]
    },
    {
      "attachments": {},
      "cell_type": "markdown",
      "metadata": {},
      "source": [
        "Точность (accuracy) модели досттаточно высокая, лучший результат на 9 итреации, точность - 0.912"
      ]
    },
    {
      "cell_type": "code",
      "execution_count": null,
      "metadata": {},
      "outputs": [],
      "source": []
    },
    {
      "cell_type": "markdown",
      "metadata": {
        "id": "pWAOjGCIbuhz"
      },
      "source": [
        "# Дополнительное задание. Визуализация прогнозов, ошибок модели и важности признаков"
      ]
    },
    {
      "cell_type": "markdown",
      "metadata": {
        "id": "oCvZU_ksbuhz"
      },
      "source": [
        "<div class=\"alert alert-info\">\n",
        "\n",
        "**Цель блока** — визуализировать результаты прогнозирования, ошибки модели и важность признаков для лучшего понимания и анализа модели."
      ]
    },
    {
      "cell_type": "markdown",
      "metadata": {
        "id": "onsptUygbuhz"
      },
      "source": [
        "## Визуализация (5 баллов)"
      ]
    },
    {
      "cell_type": "markdown",
      "metadata": {
        "id": "t3gAT3YHbuhz"
      },
      "source": [
        "   \n",
        "1. Визуализируйте важность признаков встроенным методом в `CatBoost`  (помните, что не стоит сильно доверять этому рейтингу важности, т. к. для сильно скоррелированных признаков важность делится пополам — оба признака могут улететь вниз).\n",
        "\n",
        "2. Постройте `waterfall_plot` из библиотеки `SHAP` (подробнее во втором ноутбуке из полезных ссылок ниже).\n",
        "    \n",
        "3. Постройте `classification_report` из библиотеки `scikit-learn`.\n",
        "\n",
        "4. Постройте и визуализируйте матрицу смежности (`confusion_matrix`), посмотрите, в каких классах модель больше всего ошибается.\n",
        "    \n",
        "5. Для каждого графика/примененного метода проинтерпретируйте результаты и сделайте выводы.\n",
        "\n",
        "\n",
        "<h4> Критерии оценивания </h4>\n",
        "    \n",
        "- По 1 баллу за каждый корректно выполненный пункт.\n",
        "    \n",
        "</div>\n",
        "\n",
        "<div class=\"alert alert-success\">\n",
        "\n",
        "Визуализация может помочь даже после того, как мы **уже обучили** какую-нибудь модель. Например:\n",
        "\n",
        "- Понять, что мешает модели или чего не хватает, чтобы не допускать ошибки.\n",
        "- Сделать выводы, как можно улучшить точность в последующих экспериментах.\n",
        "- Визуализировать ошибки модели.\n",
        "- Отсеять лишние признаки.\n",
        "- Найти идеи для новых признаков.\n",
        "- Все зависит от типа ваших данных.\n",
        "\n",
        "<h3> Полезные источники </h3>\n",
        "    \n",
        "- Занятие про визуализацию и Seaborn.\n",
        "- Занятие про продвинутую визуализацию и анализ ошибок модели.\n",
        "\n",
        "</div>    "
      ]
    },
    {
      "cell_type": "code",
      "execution_count": 34,
      "metadata": {
        "id": "EYvkiOcrbuh0"
      },
      "outputs": [],
      "source": [
        "# YOUR CODE HERE"
      ]
    },
    {
      "cell_type": "markdown",
      "metadata": {
        "id": "pL8evJIMbuh0"
      },
      "source": [
        "# Домашнее задание 3. Оптимизация. Тюнинг гиперпараметров с помощью `Optuna`"
      ]
    },
    {
      "cell_type": "markdown",
      "metadata": {
        "id": "ZmanV8V8buh0"
      },
      "source": [
        "<div class=\"alert alert-info\">\n",
        "\n",
        "**Цель блока** — улучшить качество предсказания, произведя подбор гиперпараметров для модели с помощью `Optuna`."
      ]
    },
    {
      "cell_type": "markdown",
      "metadata": {
        "id": "qEbxkZf8buh1"
      },
      "source": [
        "## Подбор гиперпараметров (3 балла)"
      ]
    },
    {
      "cell_type": "markdown",
      "metadata": {
        "id": "XogayH7Hbuh1"
      },
      "source": [
        "1. Напишите `objective` функцию и запустите `Optuna`.\n",
        "2. Подберите гиперпараметры для `CatBoostClassifier` (минимум 3).\n",
        "3. Обучите модель с новыми гиперпараметрами, сравните качество и сделайте выводы.\n",
        "\n",
        "    \n",
        "<h4> Критерии оценивания </h4>\n",
        "    \n",
        "- 1 балл за каждый корректно выполненный пункт.\n",
        "    \n",
        "</div>"
      ]
    },
    {
      "cell_type": "code",
      "execution_count": 35,
      "metadata": {
        "id": "UrNbom9qbuh1"
      },
      "outputs": [],
      "source": [
        "# YOUR CODE HERE"
      ]
    },
    {
      "cell_type": "markdown",
      "metadata": {
        "id": "ayIdErsgjayi"
      },
      "source": [
        "### Общая информация по `Optuna`"
      ]
    },
    {
      "cell_type": "markdown",
      "metadata": {
        "id": "a6Y35ioqbuh0",
        "tags": []
      },
      "source": [
        "#### Ключевые особенности <code>Optuna</code>\n",
        "\n"
      ]
    },
    {
      "cell_type": "markdown",
      "metadata": {
        "id": "EFwQ3_NStdFY"
      },
      "source": [
        "- Легковесность и универсальность — можно подбирать оптимальные параметры под любые функции и метрики.\n",
        "- SOTA-алгоритмы, адаптированные для поиска гиперпараметров.\n",
        "- Параллелизация и различные методы прунинга.\n",
        "- Встроенная визуализация.\n",
        "- Интеграция со множеством популярных библиотек (бустинги, sklearn, PyTorch, W&B и другие).\n",
        "\n",
        "Разберем Optuna по частям, чтобы понять, как ее использовать."
      ]
    },
    {
      "cell_type": "markdown",
      "metadata": {
        "id": "GIT2J4INtxaf"
      },
      "source": [
        "#### <code>Study</code>: оптимизация, базирующаяся на <code>Objective</code> функции"
      ]
    },
    {
      "cell_type": "markdown",
      "metadata": {
        "id": "wqPh6XVybuh0"
      },
      "source": [
        "\n",
        "\n",
        "В `Objective`-функцию нужно написать код подсчета метрики, которую возвращаем. `Objective` вызывается Optuna много раз для подбора лучших параметров.\n",
        "```python\n",
        "def objective(trial, ...):\n",
        "    # calculate score...\n",
        "    return score\n",
        "```\n",
        "\n",
        "<h4> <code>Trial</code> — одно выполнение <code>Objective</code>-функции</h4>\n",
        "\n",
        "В `trial`-объекте мы передаем параметры для «перебора», используя для каждого типа свой метод. Например:\n",
        "\n",
        "```python\n",
        "# метод `suggest_float` показывает, что перебираем `float` значения, от 0 и до 1.5 границы\n",
        "param = trial.suggest_float('param', 0, 1.5)\n",
        "\n",
        "# Категориальное значение\n",
        "loss_function = trial.suggest_categorical('loss', ['Logloss', 'CrossEntropy'])\n",
        "\n",
        "# Целочисленное значение\n",
        "depth = trial.suggest_int('depth', 5, 8)\n",
        "\n",
        "# Равномерное распределение\n",
        "learning_rate = trial.suggest_uniform('learning_rate', 0.0, 1.0)\n",
        "```"
      ]
    },
    {
      "cell_type": "markdown",
      "metadata": {
        "id": "4huC_vW7uI4o"
      },
      "source": [
        "#### `Study` parameters"
      ]
    },
    {
      "cell_type": "markdown",
      "metadata": {
        "id": "Cq94BjhWbuh0"
      },
      "source": [
        "Инициализируем объект `study`, который начнет перебор и сохранит в себе историю результатов.\n",
        "Если мы стараемся увеличить метрику, а не уменьшить ошибку, то используем `create_study(direction='maximize')`.\n",
        "```python\n",
        "study = optuna.create_study()\n",
        "study.optimize(objective, n_trials=10)\n",
        "```"
      ]
    },
    {
      "cell_type": "markdown",
      "metadata": {
        "id": "x9AvfTv4buh0"
      },
      "source": [
        "<div class=\"alert alert-info\">\n",
        "    \n",
        "В [`Optuna`](https://optuna.readthedocs.io/en/stable/index.html) реализовано несколько методов (`sampler`) подбора параметров (в том числе классические):\n",
        "* `GridSampler`\n",
        "* `RandomSampler`\n",
        "* `Tree-Structed Parzen Estimator` (`TPESampler` — самый популярный, дефолтный)\n",
        "* `BruteForceSampler`\n",
        "* [Другие 4 метода](https://optuna.readthedocs.io/en/stable/reference/samplers/index.html#module-optuna.samplers) (можно написать собственный семплер)"
      ]
    },
    {
      "cell_type": "markdown",
      "metadata": {
        "id": "3g4-aEHabuh0",
        "tags": []
      },
      "source": [
        "### Советы по перебору параметров"
      ]
    },
    {
      "cell_type": "markdown",
      "metadata": {
        "id": "g3b8cs4Mt7pq"
      },
      "source": [
        "- Иметь понимание важности параметров.\n",
        "- Число `iterations` лучше взять с запасом и зафиксировать, при этом ограничив через `early_stopping_rounds`.\n",
        "- Подсмотреть или чувствовать диапазоны и шаг значений.\n",
        "- Исключить то, что перебирать не нужно (`random_seed` , `eval_metric`, `thread_count` и прочее).\n",
        "- Используйте информацию с прошлых попыток."
      ]
    },
    {
      "cell_type": "markdown",
      "metadata": {
        "id": "dXv8NCp_buh1"
      },
      "source": [
        "# Домашнее задание 4. Блендинг"
      ]
    },
    {
      "cell_type": "markdown",
      "metadata": {
        "id": "8-bhQKWGbuh1"
      },
      "source": [
        "<div class=\"alert alert-info\">\n",
        "\n",
        "**Цель блока** — улучшить качество предсказания, объединив несколько моделей вместе методом блендинга."
      ]
    },
    {
      "cell_type": "markdown",
      "metadata": {
        "id": "ZtI-eK3xbuh1"
      },
      "source": [
        "## Задание 6. Блендинг (10 баллов)"
      ]
    },
    {
      "cell_type": "markdown",
      "metadata": {
        "id": "8v9Onoo9buh1"
      },
      "source": [
        "1. Построить и обучить модели:\n",
        "    - `CatBoostClassifier`,\n",
        "    - `LightGBMClassifier (goss)`,\n",
        "    - `XGBoostClassifier (dart)`,\n",
        "    - `RandomForestClassifier`.\n",
        "2. Сделать предсказания каждой моделью, оценить качество.\n",
        "3. Реализовать блендинг двумя способами, оценить качество и сравнить с предыдущим пунктом:\n",
        "    - `Hard Voting` —  метод, при котором делаем голосование всех моделей и выбираем самый популярный класс.\n",
        "    - `Soft Voting` —  метод, при котором мы складываем вероятности предсказания всех моделей по каждому классу и потом выбираем самый класс с максимальной суммой.\n",
        "    \n",
        "<h4> Критерии оценивания </h4>\n",
        "    \n",
        "- Обучены 4 модели — 1 балл за каждую обученную модель, всего 4 балла.\n",
        "- Для модели проведен подбор гиперпараметров — 0,5 балла за каждый параметр, всего 2 балла.\n",
        "- Сделаны предсказания каждой модели и оценено качество — 1 балл.\n",
        "- Реализован `Hard Voting` — 1 балл.\n",
        "- Реализован `Soft Voting` — 1 балл.\n",
        "- Сделаны выводы — 1 балл.\n",
        "    \n",
        "</div>"
      ]
    },
    {
      "cell_type": "code",
      "execution_count": 36,
      "metadata": {
        "id": "Mfi_sxnjbuh2"
      },
      "outputs": [],
      "source": [
        "# YOUR CODE HERE"
      ]
    },
    {
      "cell_type": "markdown",
      "metadata": {
        "id": "O2utYsm3mShl"
      },
      "source": [
        "### Общая информация о блендинге"
      ]
    },
    {
      "cell_type": "markdown",
      "metadata": {
        "id": "-JNyyolfbuh1"
      },
      "source": [
        "**Основная идея** — взять от каждого алгоритма лучшее и совместить несколько разных ML-моделей в одну.\n",
        "\n",
        "Что это дает:\n",
        "- Увеличивается обобщающая способность финальной модели и качество улучшается.\n",
        "- Модель становится более стабильной, что позволяет не слететь на приватном лидерборде.\n",
        "\n",
        "Особенно хорошо накидывает блендинг, если смешиваемые модели имеют разную природу — например, нейронные сети, kNN и решающие деревья. Они выучивают разные зависимости и хорошо дополняют друг друга.\n",
        "\n",
        "</div>"
      ]
    },
    {
      "cell_type": "markdown",
      "metadata": {
        "id": "C5w0RwnYbuh3"
      },
      "source": [
        "# <center id=\"part6\"> Отправка финального решения на лидерборд на Kaggle"
      ]
    },
    {
      "cell_type": "markdown",
      "metadata": {
        "id": "wpt2Bdimbuh3"
      },
      "source": [
        "<div class=\"alert alert-info\">\n",
        "\n",
        "**Цель блока** — сделать предсказание с помощью блендинга для тестовой части датасета, отправить результат [в соревнование на Kaggle](https://www.kaggle.com/competitions/competative-data-science-course-by-data-feeling/overview)."
      ]
    },
    {
      "cell_type": "markdown",
      "metadata": {
        "id": "gfYqF37Cbuh3"
      },
      "source": [
        "## Задание 8. Предсказание на тестовом датасете и отправка на Kaggle"
      ]
    },
    {
      "cell_type": "markdown",
      "metadata": {
        "id": "m_ExuGjabuh3"
      },
      "source": [
        "1. Сделать предобработку для тестового датасета, присоединить к нему информацию из других датасетов и добавить признаки, которые генерировали для тренировочного датасета.\n",
        "2. Сделать предсказания каждой моделью, которую хотите включить в ансамбль, но минимум их должно быть 3.\n",
        "3. Сделать блендинг с помощью `Hard Voting` или `Soft Voting` на ваш выбор.\n",
        "4. Сохранить результат предсказания в `csv` файл и отправить решение на Kaggle.\n",
        "    \n",
        "<h4> Критерии оценивания </h4>\n",
        "    \n",
        "- 0 баллов за задание, если итоговый скор на лидерборде меньше чем `0.9`.\n",
        "- 1 балл за каждый выполненный пункт.\n",
        "\n",
        "</div>"
      ]
    },
    {
      "cell_type": "code",
      "execution_count": 37,
      "metadata": {
        "id": "Cnp6usAybuh4"
      },
      "outputs": [
        {
          "data": {
            "text/html": [
              "<div>\n",
              "<style scoped>\n",
              "    .dataframe tbody tr th:only-of-type {\n",
              "        vertical-align: middle;\n",
              "    }\n",
              "\n",
              "    .dataframe tbody tr th {\n",
              "        vertical-align: top;\n",
              "    }\n",
              "\n",
              "    .dataframe thead th {\n",
              "        text-align: right;\n",
              "    }\n",
              "</style>\n",
              "<table border=\"1\" class=\"dataframe\">\n",
              "  <thead>\n",
              "    <tr style=\"text-align: right;\">\n",
              "      <th></th>\n",
              "      <th>car_id</th>\n",
              "      <th>model</th>\n",
              "      <th>car_type</th>\n",
              "      <th>fuel_type</th>\n",
              "      <th>car_rating</th>\n",
              "      <th>year_to_start</th>\n",
              "      <th>riders</th>\n",
              "      <th>year_to_work</th>\n",
              "    </tr>\n",
              "  </thead>\n",
              "  <tbody>\n",
              "    <tr>\n",
              "      <th>0</th>\n",
              "      <td>P17494612l</td>\n",
              "      <td>Skoda Rapid</td>\n",
              "      <td>economy</td>\n",
              "      <td>petrol</td>\n",
              "      <td>4.80</td>\n",
              "      <td>2013</td>\n",
              "      <td>42269</td>\n",
              "      <td>2019</td>\n",
              "    </tr>\n",
              "    <tr>\n",
              "      <th>1</th>\n",
              "      <td>N-1530212S</td>\n",
              "      <td>Renault Sandero</td>\n",
              "      <td>standart</td>\n",
              "      <td>petrol</td>\n",
              "      <td>4.32</td>\n",
              "      <td>2015</td>\n",
              "      <td>90014</td>\n",
              "      <td>2016</td>\n",
              "    </tr>\n",
              "    <tr>\n",
              "      <th>2</th>\n",
              "      <td>B-1154399t</td>\n",
              "      <td>Smart ForTwo</td>\n",
              "      <td>economy</td>\n",
              "      <td>petrol</td>\n",
              "      <td>4.46</td>\n",
              "      <td>2015</td>\n",
              "      <td>82684</td>\n",
              "      <td>2017</td>\n",
              "    </tr>\n",
              "  </tbody>\n",
              "</table>\n",
              "</div>"
            ],
            "text/plain": [
              "       car_id            model  car_type fuel_type  car_rating  year_to_start  \\\n",
              "0  P17494612l      Skoda Rapid   economy    petrol        4.80           2013   \n",
              "1  N-1530212S  Renault Sandero  standart    petrol        4.32           2015   \n",
              "2  B-1154399t     Smart ForTwo   economy    petrol        4.46           2015   \n",
              "\n",
              "   riders  year_to_work  \n",
              "0   42269          2019  \n",
              "1   90014          2016  \n",
              "2   82684          2017  "
            ]
          },
          "execution_count": 37,
          "metadata": {},
          "output_type": "execute_result"
        }
      ],
      "source": [
        "car_test = pd.read_csv('https://raw.githubusercontent.com/a-milenkin/Competitive_Data_Science/main/data/car_test.csv')\n",
        "car_test.head(3)"
      ]
    },
    {
      "cell_type": "code",
      "execution_count": 38,
      "metadata": {
        "id": "ZEZhf8gabuh4"
      },
      "outputs": [],
      "source": [
        "# YOUR CODE HERE"
      ]
    },
    {
      "cell_type": "markdown",
      "metadata": {
        "id": "cUuphISJbuh4"
      },
      "source": [
        "### Советы по отправке кода на Kaggle\n"
      ]
    },
    {
      "cell_type": "markdown",
      "metadata": {
        "id": "ZAQLSpKWu4aI"
      },
      "source": [
        "\n",
        "Если пишете код на `Kaggle`, то для отправки решения:\n",
        "\n",
        "1. Нажать Save Version.\n",
        "2. Проверить, что в Advanced Settings выбрано «Всегда сохранять результаты ноутбука».\n",
        "3. Выбрать тип сохранения Save & Run All (Commit).\n",
        "4. Нажать кнопку Save."
      ]
    }
  ],
  "metadata": {
    "colab": {
      "provenance": []
    },
    "kernelspec": {
      "display_name": "Python 3",
      "language": "python",
      "name": "python3"
    },
    "language_info": {
      "codemirror_mode": {
        "name": "ipython",
        "version": 3
      },
      "file_extension": ".py",
      "mimetype": "text/x-python",
      "name": "python",
      "nbconvert_exporter": "python",
      "pygments_lexer": "ipython3",
      "version": "3.11.1"
    },
    "vscode": {
      "interpreter": {
        "hash": "aee8b7b246df8f9039afb4144a1f6fd8d2ca17a180786b69acc140d282b71a49"
      }
    }
  },
  "nbformat": 4,
  "nbformat_minor": 0
}
