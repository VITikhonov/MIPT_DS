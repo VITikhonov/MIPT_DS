{
  "cells": [
    {
      "cell_type": "markdown",
      "metadata": {
        "id": "_Yx1Mi7abuht"
      },
      "source": [
        "# План домашних заданий"
      ]
    },
    {
      "cell_type": "markdown",
      "metadata": {
        "id": "_HK3X8tveQhH"
      },
      "source": [
        "\n",
        "- Описание задачи и знакомство с данными\n",
        "- Домашнее задание 1. Генерация и фильтрация признаков\n",
        "- Домашнее задание 2. Прогноз времени и вида поломки машин, настройка ML-модели\n",
        "- Дополнительное задание. Визуализация прогнозов, ошибок модели и важности признаков\n",
        "- Домашнее задание 3. Оптимизация. Тюнинг гиперпараметров с помощью `Optuna`\n",
        "- Домашнее задание 4. Блендинг\n",
        "- Домашнее задание 5. Парсинг внешних данных и оптимизация памяти\n",
        "- Отправка финального решения на лидерборд на Kaggle"
      ]
    },
    {
      "cell_type": "code",
      "execution_count": 2,
      "metadata": {
        "id": "cfomgq3Sbuht",
        "tags": []
      },
      "outputs": [],
      "source": [
        "import pandas as pd\n",
        "import numpy as np\n",
        "import matplotlib.pyplot as plt\n",
        "import seaborn as sns\n",
        "import phik\n",
        "from phik import resources, report\n",
        "import eli5\n",
        "from eli5.sklearn import PermutationImportance\n",
        "from sklearn.ensemble import RandomForestClassifier\n",
        "import shap"
      ]
    },
    {
      "cell_type": "markdown",
      "metadata": {
        "id": "fkeIBE5Kbuht"
      },
      "source": [
        "# <center id=\"part0\"> Описание задачи"
      ]
    },
    {
      "cell_type": "markdown",
      "metadata": {
        "id": "MKmknPZbbuht"
      },
      "source": [
        "**Предыстория:**  мы работаем с каршеринговой компанией, которая управляет крупным автопарком машин. Наша цель — предотвратить длительные периоды простоя машин из-за поломок через своевременное обслуживание и ремонт.\n",
        "\n",
        "\n",
        "**Идея для решения проблемы:** создать приоритизированный список обхода машин. Этот список поможет технической бригаде сосредоточиться на автомобилях, которые наиболее вероятно выйдут из строя в ближайшее время.\n",
        "\n",
        "\n",
        "**Как компания решает задачу:**\n",
        "\n",
        "* Собирает данные о поездках и состоянии машин до поломок.\n",
        "\n",
        "* Нанимает Data Scientist, чтобы он смог использовать эти данные для анализа и прогнозирования характера поломок.\n",
        "\n",
        "**Важный момент**: задачи этого специалиста (Data Scientist) предстоит выполнять вам."
      ]
    },
    {
      "cell_type": "markdown",
      "metadata": {
        "id": "-VMB1MVpbuhu"
      },
      "source": [
        "## <center> Знакомство с данными"
      ]
    },
    {
      "cell_type": "markdown",
      "metadata": {
        "id": "TtZE_Frrbuhu"
      },
      "source": [
        "### Информация про машины с таргетом (основной датасет)"
      ]
    },
    {
      "cell_type": "code",
      "execution_count": 3,
      "metadata": {
        "id": "DhA6zYqebuhu",
        "outputId": "6d64cd41-646a-4d14-b9cb-63330516265c",
        "tags": []
      },
      "outputs": [
        {
          "data": {
            "text/html": [
              "<div>\n",
              "<style scoped>\n",
              "    .dataframe tbody tr th:only-of-type {\n",
              "        vertical-align: middle;\n",
              "    }\n",
              "\n",
              "    .dataframe tbody tr th {\n",
              "        vertical-align: top;\n",
              "    }\n",
              "\n",
              "    .dataframe thead th {\n",
              "        text-align: right;\n",
              "    }\n",
              "</style>\n",
              "<table border=\"1\" class=\"dataframe\">\n",
              "  <thead>\n",
              "    <tr style=\"text-align: right;\">\n",
              "      <th></th>\n",
              "      <th>car_id</th>\n",
              "      <th>model</th>\n",
              "      <th>car_type</th>\n",
              "      <th>fuel_type</th>\n",
              "      <th>car_rating</th>\n",
              "      <th>year_to_start</th>\n",
              "      <th>riders</th>\n",
              "      <th>year_to_work</th>\n",
              "      <th>target_reg</th>\n",
              "      <th>target_class</th>\n",
              "    </tr>\n",
              "  </thead>\n",
              "  <tbody>\n",
              "    <tr>\n",
              "      <th>2005</th>\n",
              "      <td>i-1314717a</td>\n",
              "      <td>VW Polo</td>\n",
              "      <td>economy</td>\n",
              "      <td>petrol</td>\n",
              "      <td>5.62</td>\n",
              "      <td>2015</td>\n",
              "      <td>86871</td>\n",
              "      <td>2020</td>\n",
              "      <td>46.09</td>\n",
              "      <td>engine_check</td>\n",
              "    </tr>\n",
              "    <tr>\n",
              "      <th>1413</th>\n",
              "      <td>i-1727733j</td>\n",
              "      <td>Renault Sandero</td>\n",
              "      <td>standart</td>\n",
              "      <td>petrol</td>\n",
              "      <td>3.76</td>\n",
              "      <td>2011</td>\n",
              "      <td>6833</td>\n",
              "      <td>2021</td>\n",
              "      <td>44.17</td>\n",
              "      <td>engine_overheat</td>\n",
              "    </tr>\n",
              "    <tr>\n",
              "      <th>428</th>\n",
              "      <td>L-2024330N</td>\n",
              "      <td>Kia Sportage</td>\n",
              "      <td>standart</td>\n",
              "      <td>petrol</td>\n",
              "      <td>4.32</td>\n",
              "      <td>2012</td>\n",
              "      <td>26584</td>\n",
              "      <td>2017</td>\n",
              "      <td>69.19</td>\n",
              "      <td>engine_check</td>\n",
              "    </tr>\n",
              "    <tr>\n",
              "      <th>298</th>\n",
              "      <td>S12759270J</td>\n",
              "      <td>Nissan Qashqai</td>\n",
              "      <td>standart</td>\n",
              "      <td>petrol</td>\n",
              "      <td>3.00</td>\n",
              "      <td>2015</td>\n",
              "      <td>73263</td>\n",
              "      <td>2015</td>\n",
              "      <td>56.24</td>\n",
              "      <td>engine_ignition</td>\n",
              "    </tr>\n",
              "    <tr>\n",
              "      <th>238</th>\n",
              "      <td>l60900580P</td>\n",
              "      <td>VW Polo</td>\n",
              "      <td>economy</td>\n",
              "      <td>petrol</td>\n",
              "      <td>3.46</td>\n",
              "      <td>2011</td>\n",
              "      <td>7092</td>\n",
              "      <td>2015</td>\n",
              "      <td>24.31</td>\n",
              "      <td>break_bug</td>\n",
              "    </tr>\n",
              "  </tbody>\n",
              "</table>\n",
              "</div>"
            ],
            "text/plain": [
              "          car_id            model  car_type fuel_type  car_rating  \\\n",
              "2005  i-1314717a          VW Polo   economy    petrol        5.62   \n",
              "1413  i-1727733j  Renault Sandero  standart    petrol        3.76   \n",
              "428   L-2024330N     Kia Sportage  standart    petrol        4.32   \n",
              "298   S12759270J   Nissan Qashqai  standart    petrol        3.00   \n",
              "238   l60900580P          VW Polo   economy    petrol        3.46   \n",
              "\n",
              "      year_to_start  riders  year_to_work  target_reg     target_class  \n",
              "2005           2015   86871          2020       46.09     engine_check  \n",
              "1413           2011    6833          2021       44.17  engine_overheat  \n",
              "428            2012   26584          2017       69.19     engine_check  \n",
              "298            2015   73263          2015       56.24  engine_ignition  \n",
              "238            2011    7092          2015       24.31        break_bug  "
            ]
          },
          "execution_count": 3,
          "metadata": {},
          "output_type": "execute_result"
        }
      ],
      "source": [
        "car_train = pd.read_csv('https://raw.githubusercontent.com/a-milenkin/Competitive_Data_Science/main/data/car_train.csv')\n",
        "car_train.sample(5)"
      ]
    },
    {
      "cell_type": "markdown",
      "metadata": {
        "id": "AWvQSnafbuhu"
      },
      "source": [
        "- `car_id` — идентификатор машины\n",
        "- `model` / `car_type` / `fuel_type` — марка, класс и тип топлива машины\n",
        "- `car_rating` / `riders` — общий рейтинг и общее число поездок к концу 2021 года\n",
        "- `year_to_start` / `year_to_work` — год выпуска машины и год начала работы в автопарке\n",
        "- `target_reg` — количество дней до поломки\n",
        "- `target_class` — класс поломки (всего 9 видов)"
      ]
    },
    {
      "cell_type": "markdown",
      "metadata": {
        "id": "6KWf2LgObuhu"
      },
      "source": [
        "### Информация про поездки"
      ]
    },
    {
      "cell_type": "code",
      "execution_count": 4,
      "metadata": {
        "id": "pDc5gXzbbuhu",
        "outputId": "53849f03-cf5e-4773-e68e-7d4ba6ed5e37",
        "tags": []
      },
      "outputs": [
        {
          "data": {
            "text/html": [
              "<div>\n",
              "<style scoped>\n",
              "    .dataframe tbody tr th:only-of-type {\n",
              "        vertical-align: middle;\n",
              "    }\n",
              "\n",
              "    .dataframe tbody tr th {\n",
              "        vertical-align: top;\n",
              "    }\n",
              "\n",
              "    .dataframe thead th {\n",
              "        text-align: right;\n",
              "    }\n",
              "</style>\n",
              "<table border=\"1\" class=\"dataframe\">\n",
              "  <thead>\n",
              "    <tr style=\"text-align: right;\">\n",
              "      <th></th>\n",
              "      <th>user_id</th>\n",
              "      <th>car_id</th>\n",
              "      <th>ride_id</th>\n",
              "      <th>ride_date</th>\n",
              "      <th>rating</th>\n",
              "      <th>ride_duration</th>\n",
              "      <th>ride_cost</th>\n",
              "      <th>speed_avg</th>\n",
              "      <th>speed_max</th>\n",
              "      <th>stop_times</th>\n",
              "      <th>distance</th>\n",
              "      <th>refueling</th>\n",
              "      <th>user_ride_quality</th>\n",
              "      <th>deviation_normal</th>\n",
              "    </tr>\n",
              "  </thead>\n",
              "  <tbody>\n",
              "    <tr>\n",
              "      <th>111746</th>\n",
              "      <td>I74982889j</td>\n",
              "      <td>I-1016418u</td>\n",
              "      <td>a1g</td>\n",
              "      <td>2020-01-21</td>\n",
              "      <td>1.25</td>\n",
              "      <td>25</td>\n",
              "      <td>269</td>\n",
              "      <td>73</td>\n",
              "      <td>130.109109</td>\n",
              "      <td>0</td>\n",
              "      <td>1838.447418</td>\n",
              "      <td>0</td>\n",
              "      <td>-1.454944</td>\n",
              "      <td>3.893</td>\n",
              "    </tr>\n",
              "    <tr>\n",
              "      <th>633448</th>\n",
              "      <td>H20128734V</td>\n",
              "      <td>s22484554J</td>\n",
              "      <td>u1S</td>\n",
              "      <td>2020-02-16</td>\n",
              "      <td>6.16</td>\n",
              "      <td>32</td>\n",
              "      <td>409</td>\n",
              "      <td>41</td>\n",
              "      <td>76.000000</td>\n",
              "      <td>3</td>\n",
              "      <td>235.000081</td>\n",
              "      <td>0</td>\n",
              "      <td>-8.245582</td>\n",
              "      <td>-2.559</td>\n",
              "    </tr>\n",
              "    <tr>\n",
              "      <th>604477</th>\n",
              "      <td>n12641636Z</td>\n",
              "      <td>q71640430n</td>\n",
              "      <td>K1c</td>\n",
              "      <td>2020-01-01</td>\n",
              "      <td>3.03</td>\n",
              "      <td>52</td>\n",
              "      <td>619</td>\n",
              "      <td>41</td>\n",
              "      <td>76.000000</td>\n",
              "      <td>2</td>\n",
              "      <td>1229.768704</td>\n",
              "      <td>0</td>\n",
              "      <td>-0.611273</td>\n",
              "      <td>-0.000</td>\n",
              "    </tr>\n",
              "    <tr>\n",
              "      <th>96095</th>\n",
              "      <td>F22241027Y</td>\n",
              "      <td>H-1232380o</td>\n",
              "      <td>d1f</td>\n",
              "      <td>2020-01-26</td>\n",
              "      <td>6.19</td>\n",
              "      <td>77</td>\n",
              "      <td>994</td>\n",
              "      <td>30</td>\n",
              "      <td>81.000000</td>\n",
              "      <td>2</td>\n",
              "      <td>1534.553763</td>\n",
              "      <td>0</td>\n",
              "      <td>1.250814</td>\n",
              "      <td>7.001</td>\n",
              "    </tr>\n",
              "    <tr>\n",
              "      <th>351341</th>\n",
              "      <td>N34250533G</td>\n",
              "      <td>Z-2537370X</td>\n",
              "      <td>A1E</td>\n",
              "      <td>2020-01-19</td>\n",
              "      <td>4.50</td>\n",
              "      <td>89</td>\n",
              "      <td>1062</td>\n",
              "      <td>32</td>\n",
              "      <td>168.000000</td>\n",
              "      <td>9</td>\n",
              "      <td>1382.909596</td>\n",
              "      <td>0</td>\n",
              "      <td>-0.096915</td>\n",
              "      <td>-17.481</td>\n",
              "    </tr>\n",
              "  </tbody>\n",
              "</table>\n",
              "</div>"
            ],
            "text/plain": [
              "           user_id      car_id ride_id   ride_date  rating  ride_duration  \\\n",
              "111746  I74982889j  I-1016418u     a1g  2020-01-21    1.25             25   \n",
              "633448  H20128734V  s22484554J     u1S  2020-02-16    6.16             32   \n",
              "604477  n12641636Z  q71640430n     K1c  2020-01-01    3.03             52   \n",
              "96095   F22241027Y  H-1232380o     d1f  2020-01-26    6.19             77   \n",
              "351341  N34250533G  Z-2537370X     A1E  2020-01-19    4.50             89   \n",
              "\n",
              "        ride_cost  speed_avg   speed_max  stop_times     distance  refueling  \\\n",
              "111746        269         73  130.109109           0  1838.447418          0   \n",
              "633448        409         41   76.000000           3   235.000081          0   \n",
              "604477        619         41   76.000000           2  1229.768704          0   \n",
              "96095         994         30   81.000000           2  1534.553763          0   \n",
              "351341       1062         32  168.000000           9  1382.909596          0   \n",
              "\n",
              "        user_ride_quality  deviation_normal  \n",
              "111746          -1.454944             3.893  \n",
              "633448          -8.245582            -2.559  \n",
              "604477          -0.611273            -0.000  \n",
              "96095            1.250814             7.001  \n",
              "351341          -0.096915           -17.481  "
            ]
          },
          "execution_count": 4,
          "metadata": {},
          "output_type": "execute_result"
        }
      ],
      "source": [
        "rides_info = pd.read_csv('https://raw.githubusercontent.com/a-milenkin/Competitive_Data_Science/main/data/rides_info.csv')\n",
        "rides_info.sample(5)"
      ]
    },
    {
      "cell_type": "markdown",
      "metadata": {
        "id": "ZAn8S24sbuhv"
      },
      "source": [
        "- `user_id` / `car_id` / `ride_id` — идентификаторы водителя, машины, поездки соответственно\n",
        "- `ride_date` / `rating` — дата поездки и рейтинг, поставленный водителем\n",
        "- `ride_duration` / `distance` / `ride_cost` —  длительность (время),  пройденное расстояние, стоимость поездки\n",
        "- `speed_avg` / `speed_max` — средняя и максимальная скорости поездки соответственно\n",
        "- `stop_times` / `refueling` — количество остановок (паузы) и флаг: была ли дозаправка\n",
        "- `user_ride_quality` — оценка манеры вождения водителя машины, определенная скоринговой ML-системой сервиса\n",
        "- `deviation_normal` — общий показатель датчиков о состоянии машины, относительно эталонных показателей (нормы)"
      ]
    },
    {
      "cell_type": "markdown",
      "metadata": {
        "id": "O0Onuz4ybuhv"
      },
      "source": [
        "### Информация про водителей"
      ]
    },
    {
      "cell_type": "code",
      "execution_count": 5,
      "metadata": {
        "id": "WBEvQXhxbuhv",
        "outputId": "80c61226-f3e4-445c-e122-d019200a5fbb",
        "tags": []
      },
      "outputs": [
        {
          "data": {
            "text/html": [
              "<div>\n",
              "<style scoped>\n",
              "    .dataframe tbody tr th:only-of-type {\n",
              "        vertical-align: middle;\n",
              "    }\n",
              "\n",
              "    .dataframe tbody tr th {\n",
              "        vertical-align: top;\n",
              "    }\n",
              "\n",
              "    .dataframe thead th {\n",
              "        text-align: right;\n",
              "    }\n",
              "</style>\n",
              "<table border=\"1\" class=\"dataframe\">\n",
              "  <thead>\n",
              "    <tr style=\"text-align: right;\">\n",
              "      <th></th>\n",
              "      <th>age</th>\n",
              "      <th>user_rating</th>\n",
              "      <th>user_rides</th>\n",
              "      <th>user_time_accident</th>\n",
              "      <th>user_id</th>\n",
              "      <th>sex</th>\n",
              "      <th>first_ride_date</th>\n",
              "    </tr>\n",
              "  </thead>\n",
              "  <tbody>\n",
              "    <tr>\n",
              "      <th>3426</th>\n",
              "      <td>43</td>\n",
              "      <td>8.4</td>\n",
              "      <td>552</td>\n",
              "      <td>4.0</td>\n",
              "      <td>E10305829W</td>\n",
              "      <td>0</td>\n",
              "      <td>2019-6-21</td>\n",
              "    </tr>\n",
              "    <tr>\n",
              "      <th>9582</th>\n",
              "      <td>26</td>\n",
              "      <td>8.6</td>\n",
              "      <td>1314</td>\n",
              "      <td>13.0</td>\n",
              "      <td>X14646054G</td>\n",
              "      <td>1</td>\n",
              "      <td>2018-9-8</td>\n",
              "    </tr>\n",
              "    <tr>\n",
              "      <th>11904</th>\n",
              "      <td>42</td>\n",
              "      <td>8.0</td>\n",
              "      <td>702</td>\n",
              "      <td>3.0</td>\n",
              "      <td>O20082221S</td>\n",
              "      <td>0</td>\n",
              "      <td>2020-8-15</td>\n",
              "    </tr>\n",
              "    <tr>\n",
              "      <th>379</th>\n",
              "      <td>19</td>\n",
              "      <td>7.3</td>\n",
              "      <td>1233</td>\n",
              "      <td>NaN</td>\n",
              "      <td>w27578667Q</td>\n",
              "      <td>1</td>\n",
              "      <td>2018-9-27</td>\n",
              "    </tr>\n",
              "    <tr>\n",
              "      <th>5026</th>\n",
              "      <td>26</td>\n",
              "      <td>8.0</td>\n",
              "      <td>15</td>\n",
              "      <td>8.0</td>\n",
              "      <td>j98403460F</td>\n",
              "      <td>1</td>\n",
              "      <td>2019-11-12</td>\n",
              "    </tr>\n",
              "  </tbody>\n",
              "</table>\n",
              "</div>"
            ],
            "text/plain": [
              "       age  user_rating  user_rides  user_time_accident     user_id  sex  \\\n",
              "3426    43          8.4         552                 4.0  E10305829W    0   \n",
              "9582    26          8.6        1314                13.0  X14646054G    1   \n",
              "11904   42          8.0         702                 3.0  O20082221S    0   \n",
              "379     19          7.3        1233                 NaN  w27578667Q    1   \n",
              "5026    26          8.0          15                 8.0  j98403460F    1   \n",
              "\n",
              "      first_ride_date  \n",
              "3426        2019-6-21  \n",
              "9582         2018-9-8  \n",
              "11904       2020-8-15  \n",
              "379         2018-9-27  \n",
              "5026       2019-11-12  "
            ]
          },
          "execution_count": 5,
          "metadata": {},
          "output_type": "execute_result"
        }
      ],
      "source": [
        "driver_info = pd.read_csv('https://raw.githubusercontent.com/a-milenkin/Competitive_Data_Science/main/data/driver_info.csv')\n",
        "driver_info.sample(5)"
      ]
    },
    {
      "cell_type": "markdown",
      "metadata": {
        "id": "ubFE8w-Kbuhv"
      },
      "source": [
        "- `user_id` / `age` / `sex` — идентификатор, возраст и пол водителя, соответственно\n",
        "- `user_rating` — общий рейтинг пользователя за все поездки к концу 2021 года\n",
        "- `user_rides` — общее количество поездок к концу 2021 года\n",
        "- `user_time_accident` — число инцидентов (это могли быть аварии/штрафы/эвакуация машины)  \n",
        "- `first_ride_date` — дата первой поездки"
      ]
    },
    {
      "cell_type": "markdown",
      "metadata": {
        "id": "cXDdvlHYbuhv"
      },
      "source": [
        "### Информация про ремонт машин"
      ]
    },
    {
      "cell_type": "code",
      "execution_count": 6,
      "metadata": {
        "id": "eVTjvBspbuhv",
        "outputId": "6ac51c57-542d-45d3-9465-5e4da7a4e4ae",
        "tags": []
      },
      "outputs": [
        {
          "data": {
            "text/html": [
              "<div>\n",
              "<style scoped>\n",
              "    .dataframe tbody tr th:only-of-type {\n",
              "        vertical-align: middle;\n",
              "    }\n",
              "\n",
              "    .dataframe tbody tr th {\n",
              "        vertical-align: top;\n",
              "    }\n",
              "\n",
              "    .dataframe thead th {\n",
              "        text-align: right;\n",
              "    }\n",
              "</style>\n",
              "<table border=\"1\" class=\"dataframe\">\n",
              "  <thead>\n",
              "    <tr style=\"text-align: right;\">\n",
              "      <th></th>\n",
              "      <th>car_id</th>\n",
              "      <th>worker_id</th>\n",
              "      <th>fix_date</th>\n",
              "      <th>work_type</th>\n",
              "      <th>destroy_degree</th>\n",
              "      <th>work_duration</th>\n",
              "    </tr>\n",
              "  </thead>\n",
              "  <tbody>\n",
              "    <tr>\n",
              "      <th>89472</th>\n",
              "      <td>k-7853395L</td>\n",
              "      <td>DX</td>\n",
              "      <td>2019-11-24 16:13</td>\n",
              "      <td>reparking</td>\n",
              "      <td>1.0</td>\n",
              "      <td>34</td>\n",
              "    </tr>\n",
              "    <tr>\n",
              "      <th>96611</th>\n",
              "      <td>S-2198765D</td>\n",
              "      <td>SZ</td>\n",
              "      <td>2018-9-3 3:22</td>\n",
              "      <td>repair</td>\n",
              "      <td>3.9</td>\n",
              "      <td>6</td>\n",
              "    </tr>\n",
              "    <tr>\n",
              "      <th>74420</th>\n",
              "      <td>T-1971816y</td>\n",
              "      <td>TO</td>\n",
              "      <td>2020-7-16 18:58</td>\n",
              "      <td>refuel</td>\n",
              "      <td>1.0</td>\n",
              "      <td>28</td>\n",
              "    </tr>\n",
              "    <tr>\n",
              "      <th>94557</th>\n",
              "      <td>b15966462n</td>\n",
              "      <td>MJ</td>\n",
              "      <td>2020-1-28 11:28</td>\n",
              "      <td>reparking</td>\n",
              "      <td>1.0</td>\n",
              "      <td>31</td>\n",
              "    </tr>\n",
              "    <tr>\n",
              "      <th>62347</th>\n",
              "      <td>J-1898029b</td>\n",
              "      <td>ZW</td>\n",
              "      <td>2020-4-3 23:59</td>\n",
              "      <td>reparking</td>\n",
              "      <td>1.0</td>\n",
              "      <td>25</td>\n",
              "    </tr>\n",
              "  </tbody>\n",
              "</table>\n",
              "</div>"
            ],
            "text/plain": [
              "           car_id worker_id          fix_date  work_type  destroy_degree  \\\n",
              "89472  k-7853395L        DX  2019-11-24 16:13  reparking             1.0   \n",
              "96611  S-2198765D        SZ     2018-9-3 3:22     repair             3.9   \n",
              "74420  T-1971816y        TO   2020-7-16 18:58     refuel             1.0   \n",
              "94557  b15966462n        MJ   2020-1-28 11:28  reparking             1.0   \n",
              "62347  J-1898029b        ZW    2020-4-3 23:59  reparking             1.0   \n",
              "\n",
              "       work_duration  \n",
              "89472             34  \n",
              "96611              6  \n",
              "74420             28  \n",
              "94557             31  \n",
              "62347             25  "
            ]
          },
          "execution_count": 6,
          "metadata": {},
          "output_type": "execute_result"
        }
      ],
      "source": [
        "fix_info = pd.read_csv('https://raw.githubusercontent.com/a-milenkin/Competitive_Data_Science/main/data/fix_info.csv')\n",
        "fix_info.sample(5)"
      ]
    },
    {
      "cell_type": "markdown",
      "metadata": {
        "id": "H01U-FFAbuhv"
      },
      "source": [
        "- `worker_id` / `car_id` — идентификатор работника и машины\n",
        "- `work_type` / `work_duration` — тип и длительность (в часах) проводимой работы\n",
        "- `destroy_degree` — степень износа/поврежденности машины в случае поломки\n",
        "- `fix_date` — время начала ремонта (снятия машины с линии)"
      ]
    },
    {
      "cell_type": "markdown",
      "metadata": {
        "id": "qY-lAjlhbuhv"
      },
      "source": [
        "# Домашнее задание 1. Генерация и фильтрация признаков"
      ]
    },
    {
      "cell_type": "markdown",
      "metadata": {
        "id": "9E2N9m5Cbuhv"
      },
      "source": [
        "<center> <img src=\"https://ucarecdn.com/bf4c772d-b67a-42ae-a48b-cfd83910b0a2/\" width=700>"
      ]
    },
    {
      "cell_type": "markdown",
      "metadata": {
        "id": "HaroHWSBbuhw"
      },
      "source": [
        "<div class=\"alert alert-info\">\n",
        "\n",
        "**Цель блока** — сгенерировать признаки из дополнительных датасетов и добавить их к основному датасету, произвести фильтрацию признаков."
      ]
    },
    {
      "cell_type": "markdown",
      "metadata": {
        "id": "wev7E_qlbuhw"
      },
      "source": [
        "    \n",
        "## Задание 1. Генерация признаков из дополнительных датасетов (6 баллов)"
      ]
    },
    {
      "cell_type": "markdown",
      "metadata": {
        "id": "CSX4pA5Kbuhw"
      },
      "source": [
        "<div class=\"alert alert-info\">\n",
        "\n",
        "1. Возьмите датасет `rides_info` с информацией о поездках и проведите группировку по каждой машине отдельно.\n",
        "\n",
        "2. Для каждой машины (то есть для каждого `car_id`) подсчитайте несколько признаков:\n",
        "  - минимальный рейтинг за все поездки;\n",
        "  - средний рейтинг за все поездки;\n",
        "  - общее количество километров, которое машина проехала;\n",
        "  - максимальная скорость;\n",
        "  - общее количество поездок для каждой машины.\n",
        "\n",
        "3. Добавьте минимум 3 признака на свой выбор.\n",
        "\n",
        "4. Сделайте соединение таблиц — вспомните про методы соединения и выберите подходящий для этого случая.\n",
        "\n",
        "5. Подключите информацию про водителей (`driver_info`) и про ремонт машин (`fix_info`). Добавьте минимум 3 любых признака с каждого датасета.\n",
        "\n",
        "\n",
        "<h4> Критерии оценивания </h4>\n",
        "    \n",
        "- Добавлены 5 обязательных и минимум 3 любых признака из датасета `rides_info` — 2 балла.\n",
        "- Добавлены минимум 3 любых признака из датасета `driver_info` — 2 балла.\n",
        "- Добавлены минимум 3 любых признака из датасета `fix_info` — 2 балла.\n",
        "\n",
        "</div>"
      ]
    },
    {
      "cell_type": "markdown",
      "metadata": {
        "id": "kfAs9dZHbuhw"
      },
      "source": [
        "<div class=\"alert alert-success\">\n",
        "    \n",
        "<h4> Советы по Feature Engineering</h4>\n",
        "    \n",
        "- Начинайте с сырых данных.\n",
        "- Используйте все доступные данные. Покрывайте признаками всю имеющуюся информацию в данных.\n",
        "- Формулируйте предположения: от чего зависит таргет?\n",
        "- Смотрите визуально на классы/ошибки и делайте предположения. Какие полезны?\n",
        "- Помните, что слишком много признаков может быть вредно. Потом придется отфильтровывать.\n",
        "    \n",
        "<h4> Полезные источники </h4>\n",
        "    \n",
        "- Занятие про Feature Engineering.\n",
        "- Занятие про Feature Selection.\n",
        "- [Max Kuhn and Kjell Johnson. Feature Engineering and Selection: A Practical Approach for Predictive Models](http://www.feat.engineering/)."
      ]
    },
    {
      "cell_type": "code",
      "execution_count": 7,
      "metadata": {},
      "outputs": [
        {
          "data": {
            "text/html": [
              "<div>\n",
              "<style scoped>\n",
              "    .dataframe tbody tr th:only-of-type {\n",
              "        vertical-align: middle;\n",
              "    }\n",
              "\n",
              "    .dataframe tbody tr th {\n",
              "        vertical-align: top;\n",
              "    }\n",
              "\n",
              "    .dataframe thead th {\n",
              "        text-align: right;\n",
              "    }\n",
              "</style>\n",
              "<table border=\"1\" class=\"dataframe\">\n",
              "  <thead>\n",
              "    <tr style=\"text-align: right;\">\n",
              "      <th></th>\n",
              "      <th>car_id</th>\n",
              "      <th>min_rating</th>\n",
              "      <th>avg_rating</th>\n",
              "      <th>total_distance</th>\n",
              "      <th>max_speed</th>\n",
              "      <th>total_rides</th>\n",
              "      <th>avg_deviation_normal</th>\n",
              "      <th>avg_ride_duration</th>\n",
              "      <th>total_stops</th>\n",
              "    </tr>\n",
              "  </thead>\n",
              "  <tbody>\n",
              "    <tr>\n",
              "      <th>3738</th>\n",
              "      <td>t87727056H</td>\n",
              "      <td>0.10</td>\n",
              "      <td>4.192299</td>\n",
              "      <td>1.011870e+07</td>\n",
              "      <td>193.960172</td>\n",
              "      <td>174</td>\n",
              "      <td>9.855511</td>\n",
              "      <td>1177.925287</td>\n",
              "      <td>145</td>\n",
              "    </tr>\n",
              "    <tr>\n",
              "      <th>1123</th>\n",
              "      <td>N32430719L</td>\n",
              "      <td>0.10</td>\n",
              "      <td>4.209943</td>\n",
              "      <td>1.366327e+07</td>\n",
              "      <td>194.074085</td>\n",
              "      <td>174</td>\n",
              "      <td>-2.461322</td>\n",
              "      <td>1784.821839</td>\n",
              "      <td>141</td>\n",
              "    </tr>\n",
              "    <tr>\n",
              "      <th>1851</th>\n",
              "      <td>W67288330r</td>\n",
              "      <td>0.10</td>\n",
              "      <td>3.769368</td>\n",
              "      <td>1.661186e+07</td>\n",
              "      <td>174.493585</td>\n",
              "      <td>174</td>\n",
              "      <td>18.114845</td>\n",
              "      <td>1783.091954</td>\n",
              "      <td>134</td>\n",
              "    </tr>\n",
              "    <tr>\n",
              "      <th>2133</th>\n",
              "      <td>a-9442555A</td>\n",
              "      <td>0.10</td>\n",
              "      <td>4.014713</td>\n",
              "      <td>2.106332e+07</td>\n",
              "      <td>162.451454</td>\n",
              "      <td>174</td>\n",
              "      <td>-11.718149</td>\n",
              "      <td>2373.396552</td>\n",
              "      <td>129</td>\n",
              "    </tr>\n",
              "    <tr>\n",
              "      <th>3340</th>\n",
              "      <td>p-2049920L</td>\n",
              "      <td>0.47</td>\n",
              "      <td>4.770805</td>\n",
              "      <td>1.065800e+07</td>\n",
              "      <td>118.000000</td>\n",
              "      <td>174</td>\n",
              "      <td>9.015529</td>\n",
              "      <td>1412.551724</td>\n",
              "      <td>697</td>\n",
              "    </tr>\n",
              "  </tbody>\n",
              "</table>\n",
              "</div>"
            ],
            "text/plain": [
              "          car_id  min_rating  avg_rating  total_distance   max_speed  \\\n",
              "3738  t87727056H        0.10    4.192299    1.011870e+07  193.960172   \n",
              "1123  N32430719L        0.10    4.209943    1.366327e+07  194.074085   \n",
              "1851  W67288330r        0.10    3.769368    1.661186e+07  174.493585   \n",
              "2133  a-9442555A        0.10    4.014713    2.106332e+07  162.451454   \n",
              "3340  p-2049920L        0.47    4.770805    1.065800e+07  118.000000   \n",
              "\n",
              "      total_rides  avg_deviation_normal  avg_ride_duration  total_stops  \n",
              "3738          174              9.855511        1177.925287          145  \n",
              "1123          174             -2.461322        1784.821839          141  \n",
              "1851          174             18.114845        1783.091954          134  \n",
              "2133          174            -11.718149        2373.396552          129  \n",
              "3340          174              9.015529        1412.551724          697  "
            ]
          },
          "execution_count": 7,
          "metadata": {},
          "output_type": "execute_result"
        }
      ],
      "source": [
        "car_features = rides_info.groupby('car_id', as_index=False).agg(\n",
        "    min_rating=('rating', 'min'), #минимальный рейтинг за все поездки\n",
        "    avg_rating=('rating', 'mean'), #средний рейтинг за все поездки\n",
        "    total_distance=('distance', 'sum'), #общее количество километров, которое машина проехала\n",
        "    max_speed=('speed_max', 'max'), #максимальная скорость\n",
        "    total_rides=('ride_id', 'count'), #общее количество поездок для каждой машины\n",
        "    avg_deviation_normal=('deviation_normal', 'mean'), #cреднее отклонение от нормы по показателям состояния машины (чем выше среднее отклонение от нормы, тем вероятнее, что автомобиль сломается)\n",
        "    avg_ride_duration=('ride_duration', 'mean'), #средняя длительность поездок (автомобили, которые часто используются для коротких поездок испытывают большее напряжение на двигатель и другие системы)\n",
        "    total_stops=('stop_times', 'sum') #общее количество остановок (чем больше остановок, тем больше вероятность, что машина испытывает какие-то проблемы, требующие вмешательства или быстрее \"изнашивается\")\n",
        ")\n",
        "\n",
        "car_features.sample(5)"
      ]
    },
    {
      "cell_type": "code",
      "execution_count": 8,
      "metadata": {},
      "outputs": [
        {
          "data": {
            "text/html": [
              "<div>\n",
              "<style scoped>\n",
              "    .dataframe tbody tr th:only-of-type {\n",
              "        vertical-align: middle;\n",
              "    }\n",
              "\n",
              "    .dataframe tbody tr th {\n",
              "        vertical-align: top;\n",
              "    }\n",
              "\n",
              "    .dataframe thead th {\n",
              "        text-align: right;\n",
              "    }\n",
              "</style>\n",
              "<table border=\"1\" class=\"dataframe\">\n",
              "  <thead>\n",
              "    <tr style=\"text-align: right;\">\n",
              "      <th></th>\n",
              "      <th>car_id</th>\n",
              "      <th>model</th>\n",
              "      <th>car_type</th>\n",
              "      <th>fuel_type</th>\n",
              "      <th>car_rating</th>\n",
              "      <th>year_to_start</th>\n",
              "      <th>riders</th>\n",
              "      <th>year_to_work</th>\n",
              "      <th>target_reg</th>\n",
              "      <th>target_class</th>\n",
              "      <th>...</th>\n",
              "      <th>avg_deviation_normal</th>\n",
              "      <th>avg_ride_duration</th>\n",
              "      <th>total_stops</th>\n",
              "      <th>user_id</th>\n",
              "      <th>user_rating</th>\n",
              "      <th>user_rides</th>\n",
              "      <th>user_time_accident</th>\n",
              "      <th>work_type</th>\n",
              "      <th>work_duration</th>\n",
              "      <th>destroy_degree</th>\n",
              "    </tr>\n",
              "  </thead>\n",
              "  <tbody>\n",
              "    <tr>\n",
              "      <th>13244645</th>\n",
              "      <td>W-4238283Z</td>\n",
              "      <td>VW Tiguan</td>\n",
              "      <td>economy</td>\n",
              "      <td>petrol</td>\n",
              "      <td>4.14</td>\n",
              "      <td>2017</td>\n",
              "      <td>118788</td>\n",
              "      <td>2021</td>\n",
              "      <td>47.63</td>\n",
              "      <td>engine_fuel</td>\n",
              "      <td>...</td>\n",
              "      <td>2.150098</td>\n",
              "      <td>1847.505747</td>\n",
              "      <td>133</td>\n",
              "      <td>t59184072y</td>\n",
              "      <td>8.3</td>\n",
              "      <td>881</td>\n",
              "      <td>8.0</td>\n",
              "      <td>reparking</td>\n",
              "      <td>27</td>\n",
              "      <td>1.0</td>\n",
              "    </tr>\n",
              "    <tr>\n",
              "      <th>2127207</th>\n",
              "      <td>I17502941F</td>\n",
              "      <td>VW Polo VI</td>\n",
              "      <td>economy</td>\n",
              "      <td>petrol</td>\n",
              "      <td>3.22</td>\n",
              "      <td>2012</td>\n",
              "      <td>26520</td>\n",
              "      <td>2014</td>\n",
              "      <td>61.71</td>\n",
              "      <td>another_bug</td>\n",
              "      <td>...</td>\n",
              "      <td>-7.649661</td>\n",
              "      <td>2575.195402</td>\n",
              "      <td>655</td>\n",
              "      <td>S72927897E</td>\n",
              "      <td>7.6</td>\n",
              "      <td>519</td>\n",
              "      <td>3.0</td>\n",
              "      <td>reparking</td>\n",
              "      <td>40</td>\n",
              "      <td>8.0</td>\n",
              "    </tr>\n",
              "    <tr>\n",
              "      <th>1421538</th>\n",
              "      <td>K12580160n</td>\n",
              "      <td>Kia Sportage</td>\n",
              "      <td>standart</td>\n",
              "      <td>petrol</td>\n",
              "      <td>4.08</td>\n",
              "      <td>2014</td>\n",
              "      <td>66550</td>\n",
              "      <td>2021</td>\n",
              "      <td>33.83</td>\n",
              "      <td>gear_stick</td>\n",
              "      <td>...</td>\n",
              "      <td>-36.664454</td>\n",
              "      <td>1554.022989</td>\n",
              "      <td>156</td>\n",
              "      <td>T31677518u</td>\n",
              "      <td>8.5</td>\n",
              "      <td>127</td>\n",
              "      <td>21.0</td>\n",
              "      <td>repair</td>\n",
              "      <td>47</td>\n",
              "      <td>8.2</td>\n",
              "    </tr>\n",
              "    <tr>\n",
              "      <th>1402423</th>\n",
              "      <td>X21759757Y</td>\n",
              "      <td>Kia Rio X</td>\n",
              "      <td>economy</td>\n",
              "      <td>petrol</td>\n",
              "      <td>2.26</td>\n",
              "      <td>2012</td>\n",
              "      <td>29307</td>\n",
              "      <td>2019</td>\n",
              "      <td>54.39</td>\n",
              "      <td>engine_ignition</td>\n",
              "      <td>...</td>\n",
              "      <td>-11.965448</td>\n",
              "      <td>1600.752874</td>\n",
              "      <td>142</td>\n",
              "      <td>p11170583E</td>\n",
              "      <td>8.9</td>\n",
              "      <td>520</td>\n",
              "      <td>4.0</td>\n",
              "      <td>reparking</td>\n",
              "      <td>49</td>\n",
              "      <td>5.0</td>\n",
              "    </tr>\n",
              "    <tr>\n",
              "      <th>1627772</th>\n",
              "      <td>F72202302t</td>\n",
              "      <td>Smart ForTwo</td>\n",
              "      <td>economy</td>\n",
              "      <td>petrol</td>\n",
              "      <td>3.88</td>\n",
              "      <td>2017</td>\n",
              "      <td>106430</td>\n",
              "      <td>2019</td>\n",
              "      <td>51.85</td>\n",
              "      <td>engine_check</td>\n",
              "      <td>...</td>\n",
              "      <td>12.199810</td>\n",
              "      <td>2635.781609</td>\n",
              "      <td>136</td>\n",
              "      <td>e93074728y</td>\n",
              "      <td>7.7</td>\n",
              "      <td>1058</td>\n",
              "      <td>NaN</td>\n",
              "      <td>repair</td>\n",
              "      <td>19</td>\n",
              "      <td>5.0</td>\n",
              "    </tr>\n",
              "  </tbody>\n",
              "</table>\n",
              "<p>5 rows × 25 columns</p>\n",
              "</div>"
            ],
            "text/plain": [
              "              car_id         model  car_type fuel_type  car_rating  \\\n",
              "13244645  W-4238283Z     VW Tiguan   economy    petrol        4.14   \n",
              "2127207   I17502941F    VW Polo VI   economy    petrol        3.22   \n",
              "1421538   K12580160n  Kia Sportage  standart    petrol        4.08   \n",
              "1402423   X21759757Y     Kia Rio X   economy    petrol        2.26   \n",
              "1627772   F72202302t  Smart ForTwo   economy    petrol        3.88   \n",
              "\n",
              "          year_to_start  riders  year_to_work  target_reg     target_class  \\\n",
              "13244645           2017  118788          2021       47.63      engine_fuel   \n",
              "2127207            2012   26520          2014       61.71      another_bug   \n",
              "1421538            2014   66550          2021       33.83       gear_stick   \n",
              "1402423            2012   29307          2019       54.39  engine_ignition   \n",
              "1627772            2017  106430          2019       51.85     engine_check   \n",
              "\n",
              "          ...  avg_deviation_normal  avg_ride_duration  total_stops  \\\n",
              "13244645  ...              2.150098        1847.505747          133   \n",
              "2127207   ...             -7.649661        2575.195402          655   \n",
              "1421538   ...            -36.664454        1554.022989          156   \n",
              "1402423   ...            -11.965448        1600.752874          142   \n",
              "1627772   ...             12.199810        2635.781609          136   \n",
              "\n",
              "             user_id  user_rating  user_rides  user_time_accident  work_type  \\\n",
              "13244645  t59184072y          8.3         881                 8.0  reparking   \n",
              "2127207   S72927897E          7.6         519                 3.0  reparking   \n",
              "1421538   T31677518u          8.5         127                21.0     repair   \n",
              "1402423   p11170583E          8.9         520                 4.0  reparking   \n",
              "1627772   e93074728y          7.7        1058                 NaN     repair   \n",
              "\n",
              "         work_duration  destroy_degree  \n",
              "13244645            27             1.0  \n",
              "2127207             40             8.0  \n",
              "1421538             47             8.2  \n",
              "1402423             49             5.0  \n",
              "1627772             19             5.0  \n",
              "\n",
              "[5 rows x 25 columns]"
            ]
          },
          "execution_count": 8,
          "metadata": {},
          "output_type": "execute_result"
        }
      ],
      "source": [
        "merged_df = pd.merge(car_train, car_features, on='car_id', how='left')\n",
        "#используем левое объединение, чтобы сохранить все строки из car_train\n",
        "#если какая-то машина из car_train отсутствует в car_features, ее соответствующие признаки будут заполнены значением NaN\n",
        "\n",
        "merged_df = pd.merge(merged_df, rides_info[['car_id', 'user_id']], on='car_id', how='left')\n",
        "merged_df = pd.merge(merged_df, driver_info[['user_id', 'user_rating', 'user_rides', 'user_time_accident']], on='user_id', how='left')\n",
        "merged_df = pd.merge(merged_df, fix_info[['car_id', 'work_type', 'work_duration', 'destroy_degree']], on='car_id', how='left')\n",
        "\n",
        "merged_df.sample(5)"
      ]
    },
    {
      "cell_type": "markdown",
      "metadata": {
        "id": "Q6Fa0zupbuhw"
      },
      "source": [
        "## Задание 2. Применение методов фильтрации признаков (4 балла)\n",
        "\n",
        "<center> <img src=\"https://ucarecdn.com/d1b4bc78-fd04-44fb-bdbf-0a63355b7384/\" width=700>"
      ]
    },
    {
      "cell_type": "markdown",
      "metadata": {
        "id": "c910L9jubuhx"
      },
      "source": [
        "1. Выберите и примените любые 3 (можно и больше) метода фильтрации, которые указаны выше или в ноутбуке по фильтрации из полезных ссылок.\n",
        "2. Проинтерпретируйте результаты и сделайте выводы.\n",
        "\n",
        "\n",
        "<h4> Критерии оценивания </h4>\n",
        "    \n",
        "- Применены методы фильтрации — 1 балл за каждый метод, максимум 3 балла.\n",
        "- Сделаны выводы на основе примененных методов —1 балл.\n",
        "</div>"
      ]
    },
    {
      "cell_type": "markdown",
      "metadata": {
        "id": "9flWgKVxf9Q1"
      },
      "source": [
        "### Советы по Feature Selection"
      ]
    },
    {
      "cell_type": "markdown",
      "metadata": {
        "id": "vYr9VNS5buhw"
      },
      "source": [
        "<div class=\"alert alert-info\">\n",
        "\n",
        "<h3><center>Зачем отбирать признаки</center></h3>\n",
        "    \n",
        "**Основные причины**:\n",
        "    \n",
        "- Главная причина: с увеличением количества признаков часто падает точность предсказания модели, а некоторые модели и вовсе перестают адекватно работать. Так происходит, если в данных большое количество мусорных фичей (почти не коррелирующих с таргетом).\n",
        "\n",
        "- Если фичей очень много, то данные перестают помещаться в память и существенно увеличивают время обучения модели, особенно если мы тестируем несколько алгоритмов или ансамбль. Также важно учитывать, что платформы имеют ограничения на длительность одной сессии (в Kaggle — 12 часов) и лимиты по потребляемой памяти.\n",
        "\n",
        "- Даже если точность не снижается, есть риск, что модель опирается на шумные фичи, что снизит стабильность прогноза на приватной выборке.\n"
      ]
    },
    {
      "cell_type": "markdown",
      "metadata": {
        "id": "P4JQwUS3buhw"
      },
      "source": [
        "<b>Что удалить сразу:</b>\n",
        "    \n",
        "- константы;\n",
        "- уникальные значения (в том числе в тесте; как правило, это ID-шники по типу `car_id`).\n",
        "    \n",
        "<b>Какие методы использовать:</b>\n",
        "    \n",
        "- `Линейная корреляция`.\n",
        "- `Phik` — тоже корреляция, но на стероидах ([туториал на Medium](https://towardsdatascience.com/phik-k-get-familiar-with-the-latest-correlation-coefficient-9ba0032b37e7)).\n",
        "- `Permutation importance` (из `scikit-learn`).\n",
        "- `SHAP values` (из библиотеки `shap`).\n",
        "- `CatBoost Feature Selection` (рекурсивные методы).\n",
        "    "
      ]
    },
    {
      "cell_type": "code",
      "execution_count": 9,
      "metadata": {},
      "outputs": [
        {
          "data": {
            "text/plain": [
              "['total_rides']"
            ]
          },
          "execution_count": 9,
          "metadata": {},
          "output_type": "execute_result"
        }
      ],
      "source": [
        "constant_columns = [column for column in merged_df.columns if len(merged_df[column].unique()) == 1]\n",
        "constant_columns"
      ]
    },
    {
      "cell_type": "code",
      "execution_count": 10,
      "metadata": {},
      "outputs": [],
      "source": [
        "merged_df.drop(columns=['car_id', 'user_id', 'total_rides'], inplace=True)\n",
        "cat_columns = merged_df.select_dtypes(['object']).columns\n",
        "merged_df[cat_columns] = merged_df[cat_columns].apply(lambda x: pd.factorize(x)[0])\n",
        "merged_df = merged_df.dropna(axis = 1)"
      ]
    },
    {
      "cell_type": "code",
      "execution_count": null,
      "metadata": {},
      "outputs": [],
      "source": []
    },
    {
      "cell_type": "markdown",
      "metadata": {
        "id": "iSjuXdlcbuhx"
      },
      "source": [
        "# Домашнее задание 2. Прогноз времени и вида поломки машин. Настройка ML-модели"
      ]
    },
    {
      "cell_type": "markdown",
      "metadata": {
        "id": "2qoVlxvUbuhx"
      },
      "source": [
        "<div class=\"alert alert-info\">\n",
        "\n",
        "**Цель блока** — составить тренировочную и валидационную выборки, произвести обучение модели `CatBoostClassifier` на тренировочной части и оценить качество на валидационной."
      ]
    },
    {
      "cell_type": "markdown",
      "metadata": {
        "id": "OfqcanLLbuhx"
      },
      "source": [
        "##Обучение первой модели (5 баллов)\n",
        "\n",
        "1.   Новый пункт\n",
        "2.   Новый пункт\n",
        "\n"
      ]
    },
    {
      "cell_type": "markdown",
      "metadata": {
        "id": "ZXhXYJt6buhx"
      },
      "source": [
        "1. Классифицируйте признаки на типы (категориальные, числовые, таргеты).\n",
        "\n",
        "2. Выделите в `X` только признаки, а в `Y` — таргет (для задачи классификации).\n",
        "\n",
        "3. Сделайте разделение данных на *обучающую* и *валидационную* выборки (не забывайте про воспроизводимость результатов).\n",
        "\n",
        "4. Создайте и обучите `CatBoostClassifier` модель (настраивать гиперпараметры сейчас не обязательно).\n",
        "\n",
        "5. Проведите оценку вашей модели, используя метрику `accuracy`.\n",
        "\n",
        "\n",
        "<h4> Критерии оценивания </h4>\n",
        "    \n",
        "- По 1 баллу за каждый корректно выполненный пункт.\n",
        "\n",
        "</div>"
      ]
    },
    {
      "cell_type": "code",
      "execution_count": null,
      "metadata": {
        "id": "klrOFoVpbuhx"
      },
      "outputs": [],
      "source": [
        "from catboost import CatBoostClassifier\n",
        "from sklearn.model_selection import train_test_split\n",
        "from sklearn.metrics import accuracy_score"
      ]
    },
    {
      "cell_type": "code",
      "execution_count": null,
      "metadata": {
        "id": "lqwlTU2gbuhz"
      },
      "outputs": [],
      "source": [
        "features2drop = [...] # то, что надо выбросить\n",
        "targets = [...] # таргеты\n",
        "cat_features = [...] # категориальные признаки\n",
        "\n",
        "num_features = [...] # числовые признаки\n",
        "\n",
        "print('Категориальные признаки:', len(cat_features), cat_features)\n",
        "print('Числовые признаки:', len(num_features), num_features)\n",
        "print('Целевые переменные', targets)"
      ]
    },
    {
      "cell_type": "code",
      "execution_count": null,
      "metadata": {
        "id": "tGK5sgaQbuhz"
      },
      "outputs": [],
      "source": [
        "# YOUR CODE HERE"
      ]
    },
    {
      "cell_type": "markdown",
      "metadata": {
        "id": "pWAOjGCIbuhz"
      },
      "source": [
        "# Дополнительное задание. Визуализация прогнозов, ошибок модели и важности признаков"
      ]
    },
    {
      "cell_type": "markdown",
      "metadata": {
        "id": "oCvZU_ksbuhz"
      },
      "source": [
        "<div class=\"alert alert-info\">\n",
        "\n",
        "**Цель блока** — визуализировать результаты прогнозирования, ошибки модели и важность признаков для лучшего понимания и анализа модели."
      ]
    },
    {
      "cell_type": "markdown",
      "metadata": {
        "id": "onsptUygbuhz"
      },
      "source": [
        "## Визуализация (5 баллов)"
      ]
    },
    {
      "cell_type": "markdown",
      "metadata": {
        "id": "t3gAT3YHbuhz"
      },
      "source": [
        "   \n",
        "1. Визуализируйте важность признаков встроенным методом в `CatBoost`  (помните, что не стоит сильно доверять этому рейтингу важности, т. к. для сильно скоррелированных признаков важность делится пополам — оба признака могут улететь вниз).\n",
        "\n",
        "2. Постройте `waterfall_plot` из библиотеки `SHAP` (подробнее во втором ноутбуке из полезных ссылок ниже).\n",
        "    \n",
        "3. Постройте `classification_report` из библиотеки `scikit-learn`.\n",
        "\n",
        "4. Постройте и визуализируйте матрицу смежности (`confusion_matrix`), посмотрите, в каких классах модель больше всего ошибается.\n",
        "    \n",
        "5. Для каждого графика/примененного метода проинтерпретируйте результаты и сделайте выводы.\n",
        "\n",
        "\n",
        "<h4> Критерии оценивания </h4>\n",
        "    \n",
        "- По 1 баллу за каждый корректно выполненный пункт.\n",
        "    \n",
        "</div>\n",
        "\n",
        "<div class=\"alert alert-success\">\n",
        "\n",
        "Визуализация может помочь даже после того, как мы **уже обучили** какую-нибудь модель. Например:\n",
        "\n",
        "- Понять, что мешает модели или чего не хватает, чтобы не допускать ошибки.\n",
        "- Сделать выводы, как можно улучшить точность в последующих экспериментах.\n",
        "- Визуализировать ошибки модели.\n",
        "- Отсеять лишние признаки.\n",
        "- Найти идеи для новых признаков.\n",
        "- Все зависит от типа ваших данных.\n",
        "\n",
        "<h3> Полезные источники </h3>\n",
        "    \n",
        "- Занятие про визуализацию и Seaborn.\n",
        "- Занятие про продвинутую визуализацию и анализ ошибок модели.\n",
        "\n",
        "</div>    "
      ]
    },
    {
      "cell_type": "code",
      "execution_count": null,
      "metadata": {
        "id": "EYvkiOcrbuh0"
      },
      "outputs": [],
      "source": [
        "# YOUR CODE HERE"
      ]
    },
    {
      "cell_type": "markdown",
      "metadata": {
        "id": "pL8evJIMbuh0"
      },
      "source": [
        "# Домашнее задание 3. Оптимизация. Тюнинг гиперпараметров с помощью `Optuna`"
      ]
    },
    {
      "cell_type": "markdown",
      "metadata": {
        "id": "ZmanV8V8buh0"
      },
      "source": [
        "<div class=\"alert alert-info\">\n",
        "\n",
        "**Цель блока** — улучшить качество предсказания, произведя подбор гиперпараметров для модели с помощью `Optuna`."
      ]
    },
    {
      "cell_type": "markdown",
      "metadata": {
        "id": "qEbxkZf8buh1"
      },
      "source": [
        "## Подбор гиперпараметров (3 балла)"
      ]
    },
    {
      "cell_type": "markdown",
      "metadata": {
        "id": "XogayH7Hbuh1"
      },
      "source": [
        "1. Напишите `objective` функцию и запустите `Optuna`.\n",
        "2. Подберите гиперпараметры для `CatBoostClassifier` (минимум 3).\n",
        "3. Обучите модель с новыми гиперпараметрами, сравните качество и сделайте выводы.\n",
        "\n",
        "    \n",
        "<h4> Критерии оценивания </h4>\n",
        "    \n",
        "- 1 балл за каждый корректно выполненный пункт.\n",
        "    \n",
        "</div>"
      ]
    },
    {
      "cell_type": "code",
      "execution_count": null,
      "metadata": {
        "id": "UrNbom9qbuh1"
      },
      "outputs": [],
      "source": [
        "# YOUR CODE HERE"
      ]
    },
    {
      "cell_type": "markdown",
      "metadata": {
        "id": "ayIdErsgjayi"
      },
      "source": [
        "### Общая информация по `Optuna`"
      ]
    },
    {
      "cell_type": "markdown",
      "metadata": {
        "id": "a6Y35ioqbuh0",
        "tags": []
      },
      "source": [
        "#### Ключевые особенности <code>Optuna</code>\n",
        "\n"
      ]
    },
    {
      "cell_type": "markdown",
      "metadata": {
        "id": "EFwQ3_NStdFY"
      },
      "source": [
        "- Легковесность и универсальность — можно подбирать оптимальные параметры под любые функции и метрики.\n",
        "- SOTA-алгоритмы, адаптированные для поиска гиперпараметров.\n",
        "- Параллелизация и различные методы прунинга.\n",
        "- Встроенная визуализация.\n",
        "- Интеграция со множеством популярных библиотек (бустинги, sklearn, PyTorch, W&B и другие).\n",
        "\n",
        "Разберем Optuna по частям, чтобы понять, как ее использовать."
      ]
    },
    {
      "cell_type": "markdown",
      "metadata": {
        "id": "GIT2J4INtxaf"
      },
      "source": [
        "#### <code>Study</code>: оптимизация, базирующаяся на <code>Objective</code> функции"
      ]
    },
    {
      "cell_type": "markdown",
      "metadata": {
        "id": "wqPh6XVybuh0"
      },
      "source": [
        "\n",
        "\n",
        "В `Objective`-функцию нужно написать код подсчета метрики, которую возвращаем. `Objective` вызывается Optuna много раз для подбора лучших параметров.\n",
        "```python\n",
        "def objective(trial, ...):\n",
        "    # calculate score...\n",
        "    return score\n",
        "```\n",
        "\n",
        "<h4> <code>Trial</code> — одно выполнение <code>Objective</code>-функции</h4>\n",
        "\n",
        "В `trial`-объекте мы передаем параметры для «перебора», используя для каждого типа свой метод. Например:\n",
        "\n",
        "```python\n",
        "# метод `suggest_float` показывает, что перебираем `float` значения, от 0 и до 1.5 границы\n",
        "param = trial.suggest_float('param', 0, 1.5)\n",
        "\n",
        "# Категориальное значение\n",
        "loss_function = trial.suggest_categorical('loss', ['Logloss', 'CrossEntropy'])\n",
        "\n",
        "# Целочисленное значение\n",
        "depth = trial.suggest_int('depth', 5, 8)\n",
        "\n",
        "# Равномерное распределение\n",
        "learning_rate = trial.suggest_uniform('learning_rate', 0.0, 1.0)\n",
        "```"
      ]
    },
    {
      "cell_type": "markdown",
      "metadata": {
        "id": "4huC_vW7uI4o"
      },
      "source": [
        "#### `Study` parameters"
      ]
    },
    {
      "cell_type": "markdown",
      "metadata": {
        "id": "Cq94BjhWbuh0"
      },
      "source": [
        "Инициализируем объект `study`, который начнет перебор и сохранит в себе историю результатов.\n",
        "Если мы стараемся увеличить метрику, а не уменьшить ошибку, то используем `create_study(direction='maximize')`.\n",
        "```python\n",
        "study = optuna.create_study()\n",
        "study.optimize(objective, n_trials=10)\n",
        "```"
      ]
    },
    {
      "cell_type": "markdown",
      "metadata": {
        "id": "x9AvfTv4buh0"
      },
      "source": [
        "<div class=\"alert alert-info\">\n",
        "    \n",
        "В [`Optuna`](https://optuna.readthedocs.io/en/stable/index.html) реализовано несколько методов (`sampler`) подбора параметров (в том числе классические):\n",
        "* `GridSampler`\n",
        "* `RandomSampler`\n",
        "* `Tree-Structed Parzen Estimator` (`TPESampler` — самый популярный, дефолтный)\n",
        "* `BruteForceSampler`\n",
        "* [Другие 4 метода](https://optuna.readthedocs.io/en/stable/reference/samplers/index.html#module-optuna.samplers) (можно написать собственный семплер)"
      ]
    },
    {
      "cell_type": "markdown",
      "metadata": {
        "id": "3g4-aEHabuh0",
        "tags": []
      },
      "source": [
        "### Советы по перебору параметров"
      ]
    },
    {
      "cell_type": "markdown",
      "metadata": {
        "id": "g3b8cs4Mt7pq"
      },
      "source": [
        "- Иметь понимание важности параметров.\n",
        "- Число `iterations` лучше взять с запасом и зафиксировать, при этом ограничив через `early_stopping_rounds`.\n",
        "- Подсмотреть или чувствовать диапазоны и шаг значений.\n",
        "- Исключить то, что перебирать не нужно (`random_seed` , `eval_metric`, `thread_count` и прочее).\n",
        "- Используйте информацию с прошлых попыток."
      ]
    },
    {
      "cell_type": "markdown",
      "metadata": {
        "id": "dXv8NCp_buh1"
      },
      "source": [
        "# Домашнее задание 4. Блендинг"
      ]
    },
    {
      "cell_type": "markdown",
      "metadata": {
        "id": "8-bhQKWGbuh1"
      },
      "source": [
        "<div class=\"alert alert-info\">\n",
        "\n",
        "**Цель блока** — улучшить качество предсказания, объединив несколько моделей вместе методом блендинга."
      ]
    },
    {
      "cell_type": "markdown",
      "metadata": {
        "id": "ZtI-eK3xbuh1"
      },
      "source": [
        "## Задание 6. Блендинг (10 баллов)"
      ]
    },
    {
      "cell_type": "markdown",
      "metadata": {
        "id": "8v9Onoo9buh1"
      },
      "source": [
        "1. Построить и обучить модели:\n",
        "    - `CatBoostClassifier`,\n",
        "    - `LightGBMClassifier (goss)`,\n",
        "    - `XGBoostClassifier (dart)`,\n",
        "    - `RandomForestClassifier`.\n",
        "2. Сделать предсказания каждой моделью, оценить качество.\n",
        "3. Реализовать блендинг двумя способами, оценить качество и сравнить с предыдущим пунктом:\n",
        "    - `Hard Voting` —  метод, при котором делаем голосование всех моделей и выбираем самый популярный класс.\n",
        "    - `Soft Voting` —  метод, при котором мы складываем вероятности предсказания всех моделей по каждому классу и потом выбираем самый класс с максимальной суммой.\n",
        "    \n",
        "<h4> Критерии оценивания </h4>\n",
        "    \n",
        "- Обучены 4 модели — 1 балл за каждую обученную модель, всего 4 балла.\n",
        "- Для модели проведен подбор гиперпараметров — 0,5 балла за каждый параметр, всего 2 балла.\n",
        "- Сделаны предсказания каждой модели и оценено качество — 1 балл.\n",
        "- Реализован `Hard Voting` — 1 балл.\n",
        "- Реализован `Soft Voting` — 1 балл.\n",
        "- Сделаны выводы — 1 балл.\n",
        "    \n",
        "</div>"
      ]
    },
    {
      "cell_type": "code",
      "execution_count": null,
      "metadata": {
        "id": "Mfi_sxnjbuh2"
      },
      "outputs": [],
      "source": [
        "# YOUR CODE HERE"
      ]
    },
    {
      "cell_type": "markdown",
      "metadata": {
        "id": "O2utYsm3mShl"
      },
      "source": [
        "### Общая информация о блендинге"
      ]
    },
    {
      "cell_type": "markdown",
      "metadata": {
        "id": "-JNyyolfbuh1"
      },
      "source": [
        "**Основная идея** — взять от каждого алгоритма лучшее и совместить несколько разных ML-моделей в одну.\n",
        "\n",
        "Что это дает:\n",
        "- Увеличивается обобщающая способность финальной модели и качество улучшается.\n",
        "- Модель становится более стабильной, что позволяет не слететь на приватном лидерборде.\n",
        "\n",
        "Особенно хорошо накидывает блендинг, если смешиваемые модели имеют разную природу — например, нейронные сети, kNN и решающие деревья. Они выучивают разные зависимости и хорошо дополняют друг друга.\n",
        "\n",
        "</div>"
      ]
    },
    {
      "cell_type": "markdown",
      "metadata": {
        "id": "C5w0RwnYbuh3"
      },
      "source": [
        "# <center id=\"part6\"> Отправка финального решения на лидерборд на Kaggle"
      ]
    },
    {
      "cell_type": "markdown",
      "metadata": {
        "id": "wpt2Bdimbuh3"
      },
      "source": [
        "<div class=\"alert alert-info\">\n",
        "\n",
        "**Цель блока** — сделать предсказание с помощью блендинга для тестовой части датасета, отправить результат [в соревнование на Kaggle](https://www.kaggle.com/competitions/competative-data-science-course-by-data-feeling/overview)."
      ]
    },
    {
      "cell_type": "markdown",
      "metadata": {
        "id": "gfYqF37Cbuh3"
      },
      "source": [
        "## Задание 8. Предсказание на тестовом датасете и отправка на Kaggle"
      ]
    },
    {
      "cell_type": "markdown",
      "metadata": {
        "id": "m_ExuGjabuh3"
      },
      "source": [
        "1. Сделать предобработку для тестового датасета, присоединить к нему информацию из других датасетов и добавить признаки, которые генерировали для тренировочного датасета.\n",
        "2. Сделать предсказания каждой моделью, которую хотите включить в ансамбль, но минимум их должно быть 3.\n",
        "3. Сделать блендинг с помощью `Hard Voting` или `Soft Voting` на ваш выбор.\n",
        "4. Сохранить результат предсказания в `csv` файл и отправить решение на Kaggle.\n",
        "    \n",
        "<h4> Критерии оценивания </h4>\n",
        "    \n",
        "- 0 баллов за задание, если итоговый скор на лидерборде меньше чем `0.9`.\n",
        "- 1 балл за каждый выполненный пункт.\n",
        "\n",
        "</div>"
      ]
    },
    {
      "cell_type": "code",
      "execution_count": null,
      "metadata": {
        "id": "Cnp6usAybuh4"
      },
      "outputs": [],
      "source": [
        "car_test = pd.read_csv('https://raw.githubusercontent.com/a-milenkin/Competitive_Data_Science/main/data/car_test.csv')\n",
        "car_test.head(3)"
      ]
    },
    {
      "cell_type": "code",
      "execution_count": null,
      "metadata": {
        "id": "ZEZhf8gabuh4"
      },
      "outputs": [],
      "source": [
        "# YOUR CODE HERE"
      ]
    },
    {
      "cell_type": "markdown",
      "metadata": {
        "id": "cUuphISJbuh4"
      },
      "source": [
        "### Советы по отправке кода на Kaggle\n"
      ]
    },
    {
      "cell_type": "markdown",
      "metadata": {
        "id": "ZAQLSpKWu4aI"
      },
      "source": [
        "\n",
        "Если пишете код на `Kaggle`, то для отправки решения:\n",
        "\n",
        "1. Нажать Save Version.\n",
        "2. Проверить, что в Advanced Settings выбрано «Всегда сохранять результаты ноутбука».\n",
        "3. Выбрать тип сохранения Save & Run All (Commit).\n",
        "4. Нажать кнопку Save."
      ]
    }
  ],
  "metadata": {
    "colab": {
      "provenance": []
    },
    "kernelspec": {
      "display_name": "Python 3",
      "language": "python",
      "name": "python3"
    },
    "language_info": {
      "codemirror_mode": {
        "name": "ipython",
        "version": 3
      },
      "file_extension": ".py",
      "mimetype": "text/x-python",
      "name": "python",
      "nbconvert_exporter": "python",
      "pygments_lexer": "ipython3",
      "version": "3.11.1"
    },
    "vscode": {
      "interpreter": {
        "hash": "aee8b7b246df8f9039afb4144a1f6fd8d2ca17a180786b69acc140d282b71a49"
      }
    }
  },
  "nbformat": 4,
  "nbformat_minor": 0
}
